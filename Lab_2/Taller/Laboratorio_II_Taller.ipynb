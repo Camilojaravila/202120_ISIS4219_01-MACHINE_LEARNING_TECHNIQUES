{
  "nbformat": 4,
  "nbformat_minor": 0,
  "metadata": {
    "colab": {
      "name": "Laboratorio II - Taller.ipynb",
      "provenance": [],
      "collapsed_sections": [],
      "include_colab_link": true
    },
    "kernelspec": {
      "display_name": "Python 3",
      "name": "python3"
    }
  },
  "cells": [
    {
      "cell_type": "markdown",
      "metadata": {
        "id": "view-in-github",
        "colab_type": "text"
      },
      "source": [
        "<a href=\"https://colab.research.google.com/github/Camilojaravila/202120_ISIS4219_01-MACHINE_LEARNING_TECHNIQUES/blob/main/Lab_2/Taller/Laboratorio_II_Taller.ipynb\" target=\"_parent\"><img src=\"https://colab.research.google.com/assets/colab-badge.svg\" alt=\"Open In Colab\"/></a>"
      ]
    },
    {
      "cell_type": "markdown",
      "metadata": {
        "id": "Q7ffxRZZbhIP"
      },
      "source": [
        "\n",
        "<img src=\"https://bloqueneon.uniandes.edu.co/content/enforced/52233-202120_ISIS4219_01/Laboratorios.png?_&d2lSessionVal=guLBE9l4cI9Tip6PM5JSzKgp6&_&d2lSessionVal=iDtWjzbHb92iC3sVmHUqajJ2k&_&d2lSessionVal=g2xptlvZ5GrV3W5yGlhIgeBnN\" ><br>\n",
        "# Machine Learning Techniques - ISIS4219\n",
        "\n",
        "Segundo Semestre - 2021\n",
        "\n",
        "\n"
      ]
    },
    {
      "cell_type": "markdown",
      "metadata": {
        "id": "j79las3xZgA1"
      },
      "source": [
        "## Integrantes\n",
        "\n",
        "*   Integrante 1.\n",
        "*   Integrante 2.\n",
        "*   Integrante 3.\n",
        "\n"
      ]
    },
    {
      "cell_type": "markdown",
      "metadata": {
        "id": "lAZL78yfcqCn"
      },
      "source": [
        "## **Problema**\n",
        "\n",
        "Una de las ventajas que ha brindado la tecnología y la globalización es poder encontrar diferentes referencias de diferentes productos, en especial si son productos de e-commerce, eventos de entretenimiento o reserva de hoteles y parques. En este último, una de las plataformas con mayor interacción a la hora de calificar hoteles es TripAdvisor, ya que permite establecer comentarios sobre hoteles y otorgarles una calificación. \n",
        "\n",
        "Ante esta oportunidad de crecimiento turpistica, dada la reactivación económica, han decidido establecer un hotel para poder brindar atención a sus clientes. Y dado que su hotel es bastante nuevo, aún no tienen registros en las grandes plataformas de calificación hotelera, pero si tienen ya varios comentarios en Redes Sociales y quisieran entender cual sería esa posible calificación que tendrían. Para ellos, los expertos en el mercado hotelero le han brindado la información de las reseñas de 2016 de TripAdvisor junto a sus calificaciones.<br>\n",
        "\n",
        "Ellos han realizado una pre-exploración de los datos, y se han dado cuenta que las calificaciones se encuentran desbalanceadas. Por lo que le han recomendado utilizar una **SVM** para poder combatir este problema, dado que les interesaría con gran importancia saber si la calificación del hotel es muy baja.\n",
        "\n",
        "También, alguno de sus compañeros Analistas de Datos, al ver que el problema es de textos. Le recomendó utilizar un **modelo estadístico**, con el fin de establecer una primera aproximación que les pueda ayudar a entender mejor el problema.\n",
        "\n",
        "Y por último, dada su investigación que ha realizado sobre técnicas de Aprendizaje de Datos, ha establecido que las **Redes Neuronales Artificiales** pueden brindar un buen modelo que ayude a generalizar este análisis de sentimientos.\n",
        "\n",
        "Con estas técnicas en mente, se le ha pedido realizar la evaluación **cada uno de estos modelos** con sus métricas correspondientes. Junto a estos modelos, se quiere establecer el rendimiento aplicando técnicas de balanceo (puede ser en el preprocesamiento de los datos, o directamente en el algoritmo seleccionado) y aplicando técnicas de selección de variables (como PCA). Como guía, pueden construir una tabla similar evaluando la métrica de selección.\n",
        "\n",
        "| Modelo      | Original | Con Balanceo de Datos | Con Selección de variables | Otro |\n",
        "|-------------|----------|-----------------------|----------------------------|------|\n",
        "| SVM         |          |                       |                            |      |\n",
        "| Naive Bayes |          |                       |                            |      |\n",
        "| MLP         |          |                       |                            |      |\n",
        "\n",
        "Y finalmente, establecer el mejor modelo y realizar el despliegue. Con el fin de establecer la calificación de una persona dado su comentario y determinar como sería su rendimiento ya en producción.\n",
        "\n",
        "**Nota:** Realizar el despliegue del modelo no significa realizar un desarrollo web o un despliege en la nube, con tal que muestre que recibe una entrada y devuelve un valor esperado es suficiente.\n",
        "\n",
        "<br>\n",
        "Referencias:<br>\n",
        "Alam, M. H., Ryu, W.-J., Lee, S., 2016. Joint multi-grain topic sentiment: modeling semantic aspects for online reviews. Information Sciences 339, 206–223.\n",
        "<br><br>\n",
        "\n",
        "**Fuente de Datos**: https://raw.githubusercontent.com/Camilojaravila/202120_ISIS4219_01-MACHINE_LEARNING_TECHNIQUES/main/Lab_2/Taller/tripadvisor_hotel_reviews.csv\n"
      ]
    },
    {
      "cell_type": "code",
      "metadata": {
        "id": "iD0BUGaSkRrP"
      },
      "source": [
        ""
      ],
      "execution_count": null,
      "outputs": []
    }
  ]
}