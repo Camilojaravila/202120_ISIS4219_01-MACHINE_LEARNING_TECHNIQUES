{
  "nbformat": 4,
  "nbformat_minor": 0,
  "metadata": {
    "colab": {
      "name": "Laboratorio III - Sesion 1.ipynb",
      "provenance": [],
      "collapsed_sections": [],
      "include_colab_link": true
    },
    "kernelspec": {
      "name": "python3",
      "display_name": "Python 3"
    },
    "accelerator": "TPU"
  },
  "cells": [
    {
      "cell_type": "markdown",
      "metadata": {
        "id": "view-in-github",
        "colab_type": "text"
      },
      "source": [
        "<a href=\"https://colab.research.google.com/github/Camilojaravila/202120_ISIS4219_01-MACHINE_LEARNING_TECHNIQUES/blob/main/Lab_3/Sesi%C3%B3n%201/Laboratorio_III_Sesion_1.ipynb\" target=\"_parent\"><img src=\"https://colab.research.google.com/assets/colab-badge.svg\" alt=\"Open In Colab\"/></a>"
      ]
    },
    {
      "cell_type": "markdown",
      "metadata": {
        "id": "9YYmEeER6ZOy"
      },
      "source": [
        "\n",
        "<img src=\"https://bloqueneon.uniandes.edu.co/content/enforced/52233-202120_ISIS4219_01/Laboratorios.png?_&d2lSessionVal=guLBE9l4cI9Tip6PM5JSzKgp6&_&d2lSessionVal=iDtWjzbHb92iC3sVmHUqajJ2k&_&d2lSessionVal=g2xptlvZ5GrV3W5yGlhIgeBnN\" ><br>\n",
        "# Machine Learning Techniques - ISIS4219\n",
        "\n",
        "Segundo Semestre - 2021\n",
        "\n"
      ]
    },
    {
      "cell_type": "markdown",
      "metadata": {
        "id": "j79las3xZgA1"
      },
      "source": [
        "## Objetivos\n",
        "\n",
        "*   Analizar la estructura de una Red Neuronal.\n",
        "*   Construir un modelo a través de `Keras` y `TensorFlow`.\n",
        "*   Realizar la búsqueda de hiperparámetros para ajustar una Red Neuronal.\n",
        "\n"
      ]
    },
    {
      "cell_type": "markdown",
      "metadata": {
        "id": "EsHx_hJ6ZECS"
      },
      "source": [
        "## Primer Problema\n",
        "<p style=\"text-align: justify;\"> El departamento de TI ha desarrollado un servidor de correo para brindar a todos los empleados una cuenta propia donde puedan manejar la información de la empresa. Sin embargo, debido al mal manejo de la cuenta y la falta de capacitación, los directivos se han dado cuenta que a los servidores están llegando varios mensajes <i>Spam</i> que pueden comprometer la seguridad de la información. Para eso, les han pedido construir un sistema el cual permita clasificar y descartar un mensaje <i>Spam</i> antes que llegue a los servidores. \n",
        "\n",
        "<br> Debido a que es un problema reciente y los directivos quieren actuar rápido le han brindado el siguiente archivo con los datos que lograron etiquetar, y les sugieren que utilicen un ***MLP***, ya que han escuchado que son muy buenos.</p>\n"
      ]
    },
    {
      "cell_type": "markdown",
      "metadata": {
        "id": "ZSTJi8iWcTAB"
      },
      "source": [
        "### 1. Importando las librerias requeridas para el desarrollo del laboratorio\n"
      ]
    },
    {
      "cell_type": "markdown",
      "metadata": {
        "id": "cAdksbLPQEcC"
      },
      "source": [
        "Para la transformación de los datos, así como para el entrenamiento de los modelos y la visualización de los resultados, se importan las siguientes librerías:\n"
      ]
    },
    {
      "cell_type": "markdown",
      "metadata": {
        "id": "0rINYNqq66Qi"
      },
      "source": [
        "**Nota:** Para asegurarse de tener las últimas versiones y todos los paquetes instalados que por lo general no vienen en Google Colab. pueden ejecutar la sigiuente celda."
      ]
    },
    {
      "cell_type": "code",
      "metadata": {
        "id": "P6ScRe1oQoS5",
        "colab": {
          "base_uri": "https://localhost:8080/",
          "height": 105
        },
        "outputId": "fcbfd915-4373-414e-f22f-6d3922ce2b35"
      },
      "source": [
        "import pandas as pd\n",
        "import numpy as np\n",
        "import sys\n",
        "import matplotlib.pyplot as plt\n",
        "%matplotlib inline\n",
        "from pandas_profiling import ProfileReport\n",
        "\n",
        "from sklearn.model_selection import train_test_split, RandomizedSearchCV\n",
        "from sklearn.feature_extraction.text import TfidfVectorizer, CountVectorizer\n",
        "from sklearn.pipeline import Pipeline, FeatureUnion\n",
        "from sklearn.metrics import classification_report, confusion_matrix, accuracy_score, make_scorer\n",
        "\n",
        "from keras.wrappers.scikit_learn import KerasClassifier\n",
        "\n",
        "import tensorflow as tf\n",
        "from tensorflow.keras.datasets import reuters\n",
        "from tensorflow.keras.models import Sequential\n",
        "from tensorflow.keras.layers import Dense, Dropout, Activation\n",
        "from tensorflow.keras.preprocessing.text import Tokenizer\n",
        "from tensorflow.keras.callbacks import ModelCheckpoint, EarlyStopping\n",
        "\n",
        "print('Tensorflow version:', tf.__version__)"
      ],
      "execution_count": null,
      "outputs": [
        {
          "output_type": "stream",
          "text": [
            "/usr/local/lib/python3.6/dist-packages/statsmodels/tools/_testing.py:19: FutureWarning: pandas.util.testing is deprecated. Use the functions in the public API at pandas.testing instead.\n",
            "  import pandas.util.testing as tm\n",
            "Using TensorFlow backend.\n"
          ],
          "name": "stderr"
        },
        {
          "output_type": "stream",
          "text": [
            "Tensorflow version: 2.2.0\n"
          ],
          "name": "stdout"
        }
      ]
    },
    {
      "cell_type": "markdown",
      "metadata": {
        "id": "ZPg_tCo9q-Y1"
      },
      "source": [
        "### 2. Perfilamiento y entendimiento de los datos"
      ]
    },
    {
      "cell_type": "markdown",
      "metadata": {
        "id": "pgzd4WpEc0wH"
      },
      "source": [
        "\n",
        "\n",
        "#### Lectura de los datos\n",
        "Primero, se leen los datos y se visualizan que se hayan leido correctamente."
      ]
    },
    {
      "cell_type": "code",
      "metadata": {
        "id": "iSOQmVQwJON7",
        "colab": {
          "base_uri": "https://localhost:8080/",
          "height": 204
        },
        "outputId": "f946eb95-3a97-4e63-df1f-4e362fe0e0eb"
      },
      "source": [
        "url = 'https://raw.githubusercontent.com/Camilojaravila/202120_ISIS4219_01-MACHINE_LEARNING_TECHNIQUES/main/Lab_3/Sesi%C3%B3n%201/SPAM%20text%20message%2020170820%20-%20Data.csv'\n",
        "data = pd.read_csv(url)\n",
        "data.head()"
      ],
      "execution_count": null,
      "outputs": [
        {
          "output_type": "execute_result",
          "data": {
            "text/html": [
              "<div>\n",
              "<style scoped>\n",
              "    .dataframe tbody tr th:only-of-type {\n",
              "        vertical-align: middle;\n",
              "    }\n",
              "\n",
              "    .dataframe tbody tr th {\n",
              "        vertical-align: top;\n",
              "    }\n",
              "\n",
              "    .dataframe thead th {\n",
              "        text-align: right;\n",
              "    }\n",
              "</style>\n",
              "<table border=\"1\" class=\"dataframe\">\n",
              "  <thead>\n",
              "    <tr style=\"text-align: right;\">\n",
              "      <th></th>\n",
              "      <th>Category</th>\n",
              "      <th>Message</th>\n",
              "    </tr>\n",
              "  </thead>\n",
              "  <tbody>\n",
              "    <tr>\n",
              "      <th>0</th>\n",
              "      <td>ham</td>\n",
              "      <td>Go until jurong point, crazy.. Available only ...</td>\n",
              "    </tr>\n",
              "    <tr>\n",
              "      <th>1</th>\n",
              "      <td>ham</td>\n",
              "      <td>Ok lar... Joking wif u oni...</td>\n",
              "    </tr>\n",
              "    <tr>\n",
              "      <th>2</th>\n",
              "      <td>spam</td>\n",
              "      <td>Free entry in 2 a wkly comp to win FA Cup fina...</td>\n",
              "    </tr>\n",
              "    <tr>\n",
              "      <th>3</th>\n",
              "      <td>ham</td>\n",
              "      <td>U dun say so early hor... U c already then say...</td>\n",
              "    </tr>\n",
              "    <tr>\n",
              "      <th>4</th>\n",
              "      <td>ham</td>\n",
              "      <td>Nah I don't think he goes to usf, he lives aro...</td>\n",
              "    </tr>\n",
              "  </tbody>\n",
              "</table>\n",
              "</div>"
            ],
            "text/plain": [
              "  Category                                            Message\n",
              "0      ham  Go until jurong point, crazy.. Available only ...\n",
              "1      ham                      Ok lar... Joking wif u oni...\n",
              "2     spam  Free entry in 2 a wkly comp to win FA Cup fina...\n",
              "3      ham  U dun say so early hor... U c already then say...\n",
              "4      ham  Nah I don't think he goes to usf, he lives aro..."
            ]
          },
          "metadata": {
            "tags": []
          },
          "execution_count": 3
        }
      ]
    },
    {
      "cell_type": "markdown",
      "metadata": {
        "id": "0xctGhNVcs3Z"
      },
      "source": [
        "### 3. Preparación de datos"
      ]
    },
    {
      "cell_type": "markdown",
      "metadata": {
        "id": "3SJ-GOnjZbHt"
      },
      "source": [
        "Para poder realizar el pre-procesamiento de los datos, es recomendable pasar por tres etapas:\n",
        "* Eliminación del Ruido.\n",
        "* Tokenización.\n",
        "* Normalización.\n",
        "\n",
        "Para mayor información, pueden consultar el [siguiente artículo](https://medium.com/datos-y-ciencia/preprocesamiento-de-datos-de-texto-un-tutorial-en-python-5db5620f1767\n",
        ")."
      ]
    },
    {
      "cell_type": "markdown",
      "metadata": {
        "id": "CeKFwj3cdHnx"
      },
      "source": [
        "#### **3.1 Eliminación del Ruido**\n",
        "La eliminación del ruido se utiliza para dejar el archivo en texto plano, sobre todo cuando vienen de diferentes fuentes como HTML, Twitter, XML, entre otros. También para eliminar caracteres especiales y pasar todo a minúscula."
      ]
    },
    {
      "cell_type": "code",
      "metadata": {
        "id": "KMVA9gOc87WY"
      },
      "source": [
        "def remove_non_ascii(words):\n",
        "    \"\"\"Remove non-ASCII characters from list of tokenized words\"\"\"\n",
        "    new_words = []\n",
        "    for word in words:\n",
        "        new_word = unicodedata.normalize('NFKD', word).encode('ascii', 'ignore').decode('utf-8', 'ignore')\n",
        "        new_words.append(new_word)\n",
        "    return new_words\n",
        "\n",
        "def to_lowercase(words):\n",
        "    \"\"\"Convert all characters to lowercase from list of tokenized words\"\"\"\n",
        "    new_words = []\n",
        "    for word in words:\n",
        "        new_word = word.lower()\n",
        "        new_words.append(new_word)\n",
        "    return new_words\n",
        "\n",
        "def remove_punctuation(words):\n",
        "    \"\"\"Remove punctuation from list of tokenized words\"\"\"\n",
        "    new_words = []\n",
        "    for word in words:\n",
        "        new_word = re.sub(r'[^\\w\\s]', '', word)\n",
        "        if new_word != '':\n",
        "            new_words.append(new_word)\n",
        "    return new_words\n",
        "\n",
        "def replace_numbers(words):\n",
        "    \"\"\"Replace all interger occurrences in list of tokenized words with textual representation\"\"\"\n",
        "    p = inflect.engine()\n",
        "    new_words = []\n",
        "    for word in words:\n",
        "        if word.isdigit():\n",
        "            new_word = p.number_to_words(word)\n",
        "            new_words.append(new_word)\n",
        "        else:\n",
        "            new_words.append(word)\n",
        "    return new_words\n",
        "\n",
        "def remove_stopwords(words):\n",
        "    \"\"\"Remove stop words from list of tokenized words\"\"\"\n",
        "    new_words = []\n",
        "    for word in words:\n",
        "        if word not in stopwords.words('english'):\n",
        "            new_words.append(word)\n",
        "    return new_words\n",
        "\n",
        "def preproccesing(words):\n",
        "    words = to_lowercase(words)\n",
        "    words = replace_numbers(words)\n",
        "    words = remove_punctuation(words)\n",
        "    words = remove_non_ascii(words)\n",
        "    words = remove_stopwords(words)\n",
        "    return words"
      ],
      "execution_count": null,
      "outputs": []
    },
    {
      "cell_type": "markdown",
      "metadata": {
        "id": "RJqG_OevdhCP"
      },
      "source": [
        "#### **3.2 Tokenización**\n",
        "La tokenización permite dividir frases u oraciones en palabras. Con el fin de desglozar las palabras correctamente para el posterior análisis. Pero primero, se realiza una corrección de las contracciones que pueden estar presentes en los textos. "
      ]
    },
    {
      "cell_type": "code",
      "metadata": {
        "id": "KpCOR728Aurq"
      },
      "source": [
        "data['Message'] = data['Message'].apply(contractions.fix) #Aplica la corrección de las contracciones"
      ],
      "execution_count": null,
      "outputs": []
    },
    {
      "cell_type": "code",
      "metadata": {
        "id": "-Vq20mVKf9KY",
        "colab": {
          "base_uri": "https://localhost:8080/",
          "height": 204
        },
        "outputId": "af7c4433-d717-485d-a96c-5beaebada10b"
      },
      "source": [
        "data['words'] = data['Message'].apply(word_tokenize)\n",
        "data['words'] = data['words'].apply(preproccesing) #Aplica la eliminación del ruido\n",
        "data.head()"
      ],
      "execution_count": null,
      "outputs": [
        {
          "output_type": "execute_result",
          "data": {
            "text/html": [
              "<div>\n",
              "<style scoped>\n",
              "    .dataframe tbody tr th:only-of-type {\n",
              "        vertical-align: middle;\n",
              "    }\n",
              "\n",
              "    .dataframe tbody tr th {\n",
              "        vertical-align: top;\n",
              "    }\n",
              "\n",
              "    .dataframe thead th {\n",
              "        text-align: right;\n",
              "    }\n",
              "</style>\n",
              "<table border=\"1\" class=\"dataframe\">\n",
              "  <thead>\n",
              "    <tr style=\"text-align: right;\">\n",
              "      <th></th>\n",
              "      <th>Category</th>\n",
              "      <th>Message</th>\n",
              "      <th>words</th>\n",
              "    </tr>\n",
              "  </thead>\n",
              "  <tbody>\n",
              "    <tr>\n",
              "      <th>0</th>\n",
              "      <td>ham</td>\n",
              "      <td>Go until jurong point, crazy.. Available only ...</td>\n",
              "      <td>[go, jurong, point, crazy, available, bugis, n...</td>\n",
              "    </tr>\n",
              "    <tr>\n",
              "      <th>1</th>\n",
              "      <td>ham</td>\n",
              "      <td>Ok lar... Joking wif you oni...</td>\n",
              "      <td>[ok, lar, joking, wif, oni]</td>\n",
              "    </tr>\n",
              "    <tr>\n",
              "      <th>2</th>\n",
              "      <td>spam</td>\n",
              "      <td>Free entry in 2 a wkly comp to win FA Cup fina...</td>\n",
              "      <td>[free, entry, two, wkly, comp, win, fa, cup, f...</td>\n",
              "    </tr>\n",
              "    <tr>\n",
              "      <th>3</th>\n",
              "      <td>ham</td>\n",
              "      <td>you dun say so early hor... you c already then...</td>\n",
              "      <td>[dun, say, early, hor, c, already, say]</td>\n",
              "    </tr>\n",
              "    <tr>\n",
              "      <th>4</th>\n",
              "      <td>ham</td>\n",
              "      <td>Nah I do not think he goes to usf, he lives ar...</td>\n",
              "      <td>[nah, think, goes, usf, lives, around, though]</td>\n",
              "    </tr>\n",
              "  </tbody>\n",
              "</table>\n",
              "</div>"
            ],
            "text/plain": [
              "  Category  ...                                              words\n",
              "0      ham  ...  [go, jurong, point, crazy, available, bugis, n...\n",
              "1      ham  ...                        [ok, lar, joking, wif, oni]\n",
              "2     spam  ...  [free, entry, two, wkly, comp, win, fa, cup, f...\n",
              "3      ham  ...            [dun, say, early, hor, c, already, say]\n",
              "4      ham  ...     [nah, think, goes, usf, lives, around, though]\n",
              "\n",
              "[5 rows x 3 columns]"
            ]
          },
          "metadata": {
            "tags": []
          },
          "execution_count": 6
        }
      ]
    },
    {
      "cell_type": "markdown",
      "metadata": {
        "id": "gTMPaRyDF449"
      },
      "source": [
        "#### **Normalización**\n",
        "Para la normalización de los datos se realiza una eliminación de prefijos y sufijos, además de realizar una lemmatización de los verbos."
      ]
    },
    {
      "cell_type": "code",
      "metadata": {
        "id": "nwdBwMV5gpqB",
        "colab": {
          "base_uri": "https://localhost:8080/",
          "height": 204
        },
        "outputId": "299f6753-59ec-42cb-8a08-045492f4f4ba"
      },
      "source": [
        "def stem_words(words):\n",
        "    \"\"\"Stem words in list of tokenized words\"\"\"\n",
        "    stemmer = LancasterStemmer()\n",
        "    stems = []\n",
        "    for word in words:\n",
        "        stem = stemmer.stem(word)\n",
        "        stems.append(stem)\n",
        "    return stems\n",
        "\n",
        "def lemmatize_verbs(words):\n",
        "    \"\"\"Lemmatize verbs in list of tokenized words\"\"\"\n",
        "    lemmatizer = WordNetLemmatizer()\n",
        "    lemmas = []\n",
        "    for word in words:\n",
        "        lemma = lemmatizer.lemmatize(word, pos='v')\n",
        "        lemmas.append(lemma)\n",
        "    return lemmas\n",
        "\n",
        "def stem_and_lemmatize(words):\n",
        "    stems = stem_words(words)\n",
        "    lemmas = lemmatize_verbs(words)\n",
        "    return stems + lemmas\n",
        "\n",
        "data['words'] = data['words'].apply(stem_and_lemmatize) #Aplica lematización y Eliminación de Prefijos y Sufijos.\n",
        "data.head()"
      ],
      "execution_count": null,
      "outputs": [
        {
          "output_type": "execute_result",
          "data": {
            "text/html": [
              "<div>\n",
              "<style scoped>\n",
              "    .dataframe tbody tr th:only-of-type {\n",
              "        vertical-align: middle;\n",
              "    }\n",
              "\n",
              "    .dataframe tbody tr th {\n",
              "        vertical-align: top;\n",
              "    }\n",
              "\n",
              "    .dataframe thead th {\n",
              "        text-align: right;\n",
              "    }\n",
              "</style>\n",
              "<table border=\"1\" class=\"dataframe\">\n",
              "  <thead>\n",
              "    <tr style=\"text-align: right;\">\n",
              "      <th></th>\n",
              "      <th>Category</th>\n",
              "      <th>Message</th>\n",
              "      <th>words</th>\n",
              "    </tr>\n",
              "  </thead>\n",
              "  <tbody>\n",
              "    <tr>\n",
              "      <th>0</th>\n",
              "      <td>ham</td>\n",
              "      <td>Go until jurong point, crazy.. Available only ...</td>\n",
              "      <td>[go, jurong, point, crazy, avail, bug, n, gre,...</td>\n",
              "    </tr>\n",
              "    <tr>\n",
              "      <th>1</th>\n",
              "      <td>ham</td>\n",
              "      <td>Ok lar... Joking wif you oni...</td>\n",
              "      <td>[ok, lar, jok, wif, on, ok, lar, joke, wif, oni]</td>\n",
              "    </tr>\n",
              "    <tr>\n",
              "      <th>2</th>\n",
              "      <td>spam</td>\n",
              "      <td>Free entry in 2 a wkly comp to win FA Cup fina...</td>\n",
              "      <td>[fre, entry, two, wkly, comp, win, fa, cup, fi...</td>\n",
              "    </tr>\n",
              "    <tr>\n",
              "      <th>3</th>\n",
              "      <td>ham</td>\n",
              "      <td>you dun say so early hor... you c already then...</td>\n",
              "      <td>[dun, say, ear, hor, c, already, say, dun, say...</td>\n",
              "    </tr>\n",
              "    <tr>\n",
              "      <th>4</th>\n",
              "      <td>ham</td>\n",
              "      <td>Nah I do not think he goes to usf, he lives ar...</td>\n",
              "      <td>[nah, think, goe, usf, liv, around, though, na...</td>\n",
              "    </tr>\n",
              "  </tbody>\n",
              "</table>\n",
              "</div>"
            ],
            "text/plain": [
              "  Category  ...                                              words\n",
              "0      ham  ...  [go, jurong, point, crazy, avail, bug, n, gre,...\n",
              "1      ham  ...   [ok, lar, jok, wif, on, ok, lar, joke, wif, oni]\n",
              "2     spam  ...  [fre, entry, two, wkly, comp, win, fa, cup, fi...\n",
              "3      ham  ...  [dun, say, ear, hor, c, already, say, dun, say...\n",
              "4      ham  ...  [nah, think, goe, usf, liv, around, though, na...\n",
              "\n",
              "[5 rows x 3 columns]"
            ]
          },
          "metadata": {
            "tags": []
          },
          "execution_count": 7
        }
      ]
    },
    {
      "cell_type": "markdown",
      "metadata": {
        "id": "IkioZkNn9hiE"
      },
      "source": [
        "##### **3.4 Selección de campos**\n",
        "\n",
        "Primero, se separa la variable predictora y los textos que se van a utilizar."
      ]
    },
    {
      "cell_type": "code",
      "metadata": {
        "id": "x1JC3_G5lJim",
        "colab": {
          "base_uri": "https://localhost:8080/",
          "height": 419
        },
        "outputId": "ce841722-8d19-4b44-b9ba-1f25a1e21e7f"
      },
      "source": [
        "data['words'] = data['words'].apply(lambda x: ' '.join(map(str, x)))\n",
        "data"
      ],
      "execution_count": null,
      "outputs": [
        {
          "output_type": "execute_result",
          "data": {
            "text/html": [
              "<div>\n",
              "<style scoped>\n",
              "    .dataframe tbody tr th:only-of-type {\n",
              "        vertical-align: middle;\n",
              "    }\n",
              "\n",
              "    .dataframe tbody tr th {\n",
              "        vertical-align: top;\n",
              "    }\n",
              "\n",
              "    .dataframe thead th {\n",
              "        text-align: right;\n",
              "    }\n",
              "</style>\n",
              "<table border=\"1\" class=\"dataframe\">\n",
              "  <thead>\n",
              "    <tr style=\"text-align: right;\">\n",
              "      <th></th>\n",
              "      <th>Category</th>\n",
              "      <th>Message</th>\n",
              "      <th>words</th>\n",
              "    </tr>\n",
              "  </thead>\n",
              "  <tbody>\n",
              "    <tr>\n",
              "      <th>0</th>\n",
              "      <td>ham</td>\n",
              "      <td>Go until jurong point, crazy.. Available only ...</td>\n",
              "      <td>go jurong point crazy avail bug n gre world la...</td>\n",
              "    </tr>\n",
              "    <tr>\n",
              "      <th>1</th>\n",
              "      <td>ham</td>\n",
              "      <td>Ok lar... Joking wif you oni...</td>\n",
              "      <td>ok lar jok wif on ok lar joke wif oni</td>\n",
              "    </tr>\n",
              "    <tr>\n",
              "      <th>2</th>\n",
              "      <td>spam</td>\n",
              "      <td>Free entry in 2 a wkly comp to win FA Cup fina...</td>\n",
              "      <td>fre entry two wkly comp win fa cup fin tkts 21...</td>\n",
              "    </tr>\n",
              "    <tr>\n",
              "      <th>3</th>\n",
              "      <td>ham</td>\n",
              "      <td>you dun say so early hor... you c already then...</td>\n",
              "      <td>dun say ear hor c already say dun say early ho...</td>\n",
              "    </tr>\n",
              "    <tr>\n",
              "      <th>4</th>\n",
              "      <td>ham</td>\n",
              "      <td>Nah I do not think he goes to usf, he lives ar...</td>\n",
              "      <td>nah think goe usf liv around though nah think ...</td>\n",
              "    </tr>\n",
              "    <tr>\n",
              "      <th>...</th>\n",
              "      <td>...</td>\n",
              "      <td>...</td>\n",
              "      <td>...</td>\n",
              "    </tr>\n",
              "    <tr>\n",
              "      <th>5567</th>\n",
              "      <td>spam</td>\n",
              "      <td>This is the 2nd time we have tried 2 contact y...</td>\n",
              "      <td>2nd tim tri two contact 750 pound priz two cla...</td>\n",
              "    </tr>\n",
              "    <tr>\n",
              "      <th>5568</th>\n",
              "      <td>ham</td>\n",
              "      <td>Will ü b going to esplanade fr home?</td>\n",
              "      <td>u b going esplanad fr hom u b go esplanade fr ...</td>\n",
              "    </tr>\n",
              "    <tr>\n",
              "      <th>5569</th>\n",
              "      <td>ham</td>\n",
              "      <td>Pity, * was in mood for that. So...any other s...</td>\n",
              "      <td>pity mood suggest pity mood suggestions</td>\n",
              "    </tr>\n",
              "    <tr>\n",
              "      <th>5570</th>\n",
              "      <td>ham</td>\n",
              "      <td>The guy did some bitching but I acted like I w...</td>\n",
              "      <td>guy bitch act lik would interest buy someth el...</td>\n",
              "    </tr>\n",
              "    <tr>\n",
              "      <th>5571</th>\n",
              "      <td>ham</td>\n",
              "      <td>Rofl. Its true to its name</td>\n",
              "      <td>rofl tru nam rofl true name</td>\n",
              "    </tr>\n",
              "  </tbody>\n",
              "</table>\n",
              "<p>5572 rows × 3 columns</p>\n",
              "</div>"
            ],
            "text/plain": [
              "     Category  ...                                              words\n",
              "0         ham  ...  go jurong point crazy avail bug n gre world la...\n",
              "1         ham  ...              ok lar jok wif on ok lar joke wif oni\n",
              "2        spam  ...  fre entry two wkly comp win fa cup fin tkts 21...\n",
              "3         ham  ...  dun say ear hor c already say dun say early ho...\n",
              "4         ham  ...  nah think goe usf liv around though nah think ...\n",
              "...       ...  ...                                                ...\n",
              "5567     spam  ...  2nd tim tri two contact 750 pound priz two cla...\n",
              "5568      ham  ...  u b going esplanad fr hom u b go esplanade fr ...\n",
              "5569      ham  ...            pity mood suggest pity mood suggestions\n",
              "5570      ham  ...  guy bitch act lik would interest buy someth el...\n",
              "5571      ham  ...                        rofl tru nam rofl true name\n",
              "\n",
              "[5572 rows x 3 columns]"
            ]
          },
          "metadata": {
            "tags": []
          },
          "execution_count": 8
        }
      ]
    },
    {
      "cell_type": "markdown",
      "metadata": {
        "id": "g5IOKin8OMWn"
      },
      "source": [
        "Ya con los textos preprocesados, se obtiene una transformación de la variable predictora. En este caso no se hará una categorización binaria sino que se obtendrán los valores dummies, con el fin de demostrar que una red no necesariamente puede tener una sola salida."
      ]
    },
    {
      "cell_type": "code",
      "metadata": {
        "id": "79hYV9-w-d-p",
        "colab": {
          "base_uri": "https://localhost:8080/",
          "height": 419
        },
        "outputId": "bbf22bad-ce9a-43b4-dd6b-c15a9b692ff9"
      },
      "source": [
        "X, y = data['words'],data['Category']\n",
        "y = pd.get_dummies(y)\n",
        "y"
      ],
      "execution_count": null,
      "outputs": [
        {
          "output_type": "execute_result",
          "data": {
            "text/html": [
              "<div>\n",
              "<style scoped>\n",
              "    .dataframe tbody tr th:only-of-type {\n",
              "        vertical-align: middle;\n",
              "    }\n",
              "\n",
              "    .dataframe tbody tr th {\n",
              "        vertical-align: top;\n",
              "    }\n",
              "\n",
              "    .dataframe thead th {\n",
              "        text-align: right;\n",
              "    }\n",
              "</style>\n",
              "<table border=\"1\" class=\"dataframe\">\n",
              "  <thead>\n",
              "    <tr style=\"text-align: right;\">\n",
              "      <th></th>\n",
              "      <th>ham</th>\n",
              "      <th>spam</th>\n",
              "    </tr>\n",
              "  </thead>\n",
              "  <tbody>\n",
              "    <tr>\n",
              "      <th>0</th>\n",
              "      <td>1</td>\n",
              "      <td>0</td>\n",
              "    </tr>\n",
              "    <tr>\n",
              "      <th>1</th>\n",
              "      <td>1</td>\n",
              "      <td>0</td>\n",
              "    </tr>\n",
              "    <tr>\n",
              "      <th>2</th>\n",
              "      <td>0</td>\n",
              "      <td>1</td>\n",
              "    </tr>\n",
              "    <tr>\n",
              "      <th>3</th>\n",
              "      <td>1</td>\n",
              "      <td>0</td>\n",
              "    </tr>\n",
              "    <tr>\n",
              "      <th>4</th>\n",
              "      <td>1</td>\n",
              "      <td>0</td>\n",
              "    </tr>\n",
              "    <tr>\n",
              "      <th>...</th>\n",
              "      <td>...</td>\n",
              "      <td>...</td>\n",
              "    </tr>\n",
              "    <tr>\n",
              "      <th>5567</th>\n",
              "      <td>0</td>\n",
              "      <td>1</td>\n",
              "    </tr>\n",
              "    <tr>\n",
              "      <th>5568</th>\n",
              "      <td>1</td>\n",
              "      <td>0</td>\n",
              "    </tr>\n",
              "    <tr>\n",
              "      <th>5569</th>\n",
              "      <td>1</td>\n",
              "      <td>0</td>\n",
              "    </tr>\n",
              "    <tr>\n",
              "      <th>5570</th>\n",
              "      <td>1</td>\n",
              "      <td>0</td>\n",
              "    </tr>\n",
              "    <tr>\n",
              "      <th>5571</th>\n",
              "      <td>1</td>\n",
              "      <td>0</td>\n",
              "    </tr>\n",
              "  </tbody>\n",
              "</table>\n",
              "<p>5572 rows × 2 columns</p>\n",
              "</div>"
            ],
            "text/plain": [
              "      ham  spam\n",
              "0       1     0\n",
              "1       1     0\n",
              "2       0     1\n",
              "3       1     0\n",
              "4       1     0\n",
              "...   ...   ...\n",
              "5567    0     1\n",
              "5568    1     0\n",
              "5569    1     0\n",
              "5570    1     0\n",
              "5571    1     0\n",
              "\n",
              "[5572 rows x 2 columns]"
            ]
          },
          "metadata": {
            "tags": []
          },
          "execution_count": 9
        }
      ]
    },
    {
      "cell_type": "markdown",
      "metadata": {
        "id": "zspxAgCl3Vsc"
      },
      "source": [
        "Y con los textos obtenidos, se realiza la transformación Term-frecuency times inverse Document-frecuency."
      ]
    },
    {
      "cell_type": "code",
      "metadata": {
        "id": "NHytuAYWAeiH",
        "colab": {
          "base_uri": "https://localhost:8080/",
          "height": 51
        },
        "outputId": "5a2a13a7-a6a2-4035-dbba-b66c68a8c174"
      },
      "source": [
        "tf_idf = TfidfVectorizer()\n",
        "X_tf_idf = tf_idf.fit_transform(X)\n",
        "print(X_tf_idf.shape)\n",
        "X_tf_idf.toarray()[0]"
      ],
      "execution_count": null,
      "outputs": [
        {
          "output_type": "stream",
          "text": [
            "(5572, 10047)\n"
          ],
          "name": "stdout"
        },
        {
          "output_type": "execute_result",
          "data": {
            "text/plain": [
              "array([0., 0., 0., ..., 0., 0., 0.])"
            ]
          },
          "metadata": {
            "tags": []
          },
          "execution_count": 10
        }
      ]
    },
    {
      "cell_type": "markdown",
      "metadata": {
        "id": "HCPvB6qNdAUo"
      },
      "source": [
        "### 4. Modelamiento"
      ]
    },
    {
      "cell_type": "markdown",
      "metadata": {
        "id": "DtEJHm4lKG3t"
      },
      "source": [
        "#### 4.1 Arquitectura\n",
        "\n",
        "Para el desarrollo del laboratorio se utilizará una arquitectura Multilayer Perceptron estructurada de la siguiente manera:\n",
        "\n",
        "![Multilayer Perceptron](https://github.com/jcestevezc/Machine-Learning-Techniques/blob/master/Laboratorio%205/MLP.png?raw=true)\n",
        "\n",
        "Para conocer un poco mas acerca de los diferentes tipos de arquitecturas, pueden encontrar mas información en el [siguiente enlace](https://towardsdatascience.com/the-mostly-complete-chart-of-neural-networks-explained-3fb6f2367464)"
      ]
    },
    {
      "cell_type": "markdown",
      "metadata": {
        "id": "FGe28y8mPI7L"
      },
      "source": [
        "Siempre para las Redes Neuronales, es importante especificar la dimensión de entrada y la dimensión de la salida esperada."
      ]
    },
    {
      "cell_type": "code",
      "metadata": {
        "id": "Zc4wLuK6eHvn"
      },
      "source": [
        "input = (X_tf_idf.shape)[1]\n",
        "output = 2"
      ],
      "execution_count": null,
      "outputs": []
    },
    {
      "cell_type": "markdown",
      "metadata": {
        "id": "7385-i8LQXln"
      },
      "source": [
        "Primero, definimos nuestro conjunto de entrenamiento y test."
      ]
    },
    {
      "cell_type": "code",
      "metadata": {
        "id": "iRnd7TUTnnLS"
      },
      "source": [
        "X_train, X_test, y_train, y_test = train_test_split(X_tf_idf.toarray(), y.values, test_size=0.2, random_state=33)"
      ],
      "execution_count": null,
      "outputs": []
    },
    {
      "cell_type": "markdown",
      "metadata": {
        "id": "MP59wUN9IQIw"
      },
      "source": [
        "**Tipos de Layers**\n",
        "\n",
        "Para este ejercicio en particular se utilizarán las ***Core layers*** de Keras:\n",
        "\n",
        "*   **Input object**\n",
        "*   **Dense layer**\n",
        "*   **Activation layer**\n",
        "*   Embedding layer\n",
        "*   Masking layer\n",
        "*   Lambda layer\n",
        "\n",
        "Regularization layers:\n",
        "\n",
        "*   **Dropout layer**\n",
        "*   SpatialDropout1D layer\n",
        "*   SpatialDropout2D layer\n",
        "*   SpatialDropout3D layer\n",
        "*   GaussianDropout layer\n",
        "*   GaussianNoise layer\n",
        "*   ActivityRegularization layer\n",
        "*   AlphaDropout layer\n",
        "\n",
        "Para conocer mas en detalle los diferentes tipo de capas, se pueden consultar en el siguiente enlace: [Keras Layers](https://keras.io/api/layers/)"
      ]
    },
    {
      "cell_type": "markdown",
      "metadata": {
        "id": "EiwOt2hlPuln"
      },
      "source": [
        "Y así de fácil se puede construir un modelo con `Keras`."
      ]
    },
    {
      "cell_type": "code",
      "metadata": {
        "id": "pqjaU7nWgo77"
      },
      "source": [
        "#Se inicializa el modelo\n",
        "model = Sequential()\n",
        "#Se agrega la primera capa\n",
        "model.add(Dense(512, input_dim = input))\n",
        "#Se define su función de activación\n",
        "model.add(Activation('relu'))\n",
        "#Se define la tasa de Dropout\n",
        "model.add(Dropout(0.5))\n",
        "#Se define la capa de salida\n",
        "model.add(Dense(2))\n",
        "#Se define la función de activación\n",
        "model.add(Activation('softmax'))"
      ],
      "execution_count": null,
      "outputs": []
    },
    {
      "cell_type": "code",
      "metadata": {
        "id": "_ShuGWdtguFG",
        "colab": {
          "base_uri": "https://localhost:8080/",
          "height": 323
        },
        "outputId": "7ae7718d-eb96-4f5d-8921-e146fa110d81"
      },
      "source": [
        "model.summary()"
      ],
      "execution_count": null,
      "outputs": [
        {
          "output_type": "stream",
          "text": [
            "Model: \"sequential\"\n",
            "_________________________________________________________________\n",
            "Layer (type)                 Output Shape              Param #   \n",
            "=================================================================\n",
            "dense (Dense)                (None, 512)               5144576   \n",
            "_________________________________________________________________\n",
            "activation (Activation)      (None, 512)               0         \n",
            "_________________________________________________________________\n",
            "dropout (Dropout)            (None, 512)               0         \n",
            "_________________________________________________________________\n",
            "dense_1 (Dense)              (None, 2)                 1026      \n",
            "_________________________________________________________________\n",
            "activation_1 (Activation)    (None, 2)                 0         \n",
            "=================================================================\n",
            "Total params: 5,145,602\n",
            "Trainable params: 5,145,602\n",
            "Non-trainable params: 0\n",
            "_________________________________________________________________\n"
          ],
          "name": "stdout"
        }
      ]
    },
    {
      "cell_type": "markdown",
      "metadata": {
        "id": "ze9cmPhkSQCg"
      },
      "source": [
        "Algunas de las decisiones a tomar durante el proceso de construcción de la red son la selección de:\n",
        "1. La función de [perdida](https://keras.io/api/losses/):\n",
        "\n",
        "\n",
        "> * binary_crossentropy function\n",
        "> * categorical_crossentropy function\n",
        "> * ...\n",
        "\n",
        "2. El [optimizador](https://medium.com/@sdoshi579/optimizers-for-training-neural-network-59450d71caf6#:~:text=Optimizers%20are%20algorithms%20or%20methods,order%20to%20reduce%20the%20losses.&text=Optimization%20algorithms%20or%20strategies%20are,the%20most%20accurate%20results%20possible.) en [keras](https://keras.io/api/optimizers/):\n",
        "\n",
        "> * SGD\n",
        "> * Adam\n",
        "> * ...\n",
        "\n",
        "3. Las metricas de [evaluación](https://keras.io/api/metrics/):\n",
        "\n",
        "> * Accuracy metrics\n",
        "> * Probabilistic metrics\n",
        "> * Regression metrics\n",
        "> * Classification metrics based on True/False positives & negatives\n",
        "> * Image segmentation metrics\n"
      ]
    },
    {
      "cell_type": "markdown",
      "metadata": {
        "id": "f-d2ICI0QiwW"
      },
      "source": [
        "Y se 'compila', para poder entrenar los parámetros del modelo."
      ]
    },
    {
      "cell_type": "code",
      "metadata": {
        "id": "YpwqiTxhQidx"
      },
      "source": [
        "model.compile(loss='categorical_crossentropy', optimizer=\"SGD\", metrics=[\"accuracy\"])"
      ],
      "execution_count": null,
      "outputs": []
    },
    {
      "cell_type": "markdown",
      "metadata": {
        "id": "v9MPah-RR2O1"
      },
      "source": [
        "#### 4.2 Control de la complejidad y los tiempos de procesamiento"
      ]
    },
    {
      "cell_type": "markdown",
      "metadata": {
        "id": "aqqF0iZLL5j6"
      },
      "source": [
        "Una forma de ***controlar la complejidad y los tiempos de procesamiento***, es mediante el uso de ***callbacks***. Los anteriores son acciones durante las etapas del entrenamiento. Por ejemplo: al comienzo o al final del epoch, antes o después de un solo lote, etc.\n",
        "\n",
        "Existen varios tipos de [callbacks](https://keras.io/api/callbacks/), sin embargo para este laboratorio se utilizará *EarlyStopping*.\n",
        "\n"
      ]
    },
    {
      "cell_type": "code",
      "metadata": {
        "id": "4-_aC8ESLuTj"
      },
      "source": [
        "from tensorflow.keras.callbacks import EarlyStopping\n",
        "\n",
        "early_stopping = EarlyStopping(monitor='loss', patience=3, verbose=1, mode='min', baseline=None, restore_best_weights=False)\n",
        "callbacks = [early_stopping]"
      ],
      "execution_count": null,
      "outputs": []
    },
    {
      "cell_type": "markdown",
      "metadata": {
        "id": "uVUkOROeOKDb"
      },
      "source": [
        "Algunos parametros importantes de EarlyStopping son:\n",
        "\n",
        "* **monitor**: permite especificar la metrica a ser monitoreada.\n",
        "\n",
        "* **patience**: corresponde al número de epochs maximo en que se continuará el entrenamiento a pesar de que no haya mejora.\n",
        "* **modo**: puede ser {\"auto\", \"min\", \"max\"}. En modo min, el entrenamiento se detendrá cuando la cantidad monitoreada haya dejado de disminuir; en modo \"max\" se detendrá cuando la cantidad monitoreada haya dejado de aumentar; en modo \"automático\", la dirección se infiere automáticamente del nombre de la cantidad monitoreada."
      ]
    },
    {
      "cell_type": "markdown",
      "metadata": {
        "id": "O7fBC4LnWmF5"
      },
      "source": [
        "Algunas definiciones importantes:\n",
        "\n",
        "<img src=\"https://github.com/jcestevezc/Machine-Learning-Techniques/blob/master/Laboratorio%205/EpochBatch.jpeg?raw=true\" width=\"400\">\n",
        "\n",
        "**[Epoch](https://keras.io/getting_started/faq/#what-do-sample-batch-epoch-mean)**: generalmente definido como \"una pasada sobre todo el conjunto de datos\", utilizado para separar el entrenamiento en fases distintas, lo cual es útil para el registro y la evaluación periódica.\n",
        "\n",
        "**[Batch o lote](https://keras.io/getting_started/faq/#what-do-sample-batch-epoch-mean)**: un conjunto de N muestras. Las muestras en un lote se procesan de forma independiente, en paralelo. Si se está entrenando, un lote resulta en una sola actualización del modelo. Un lote generalmente se aproxima a la distribución de los datos de entrada mejor que una sola entrada. \n",
        "\n",
        "Cuanto más grande sea el lote, ***mejor será la aproximación***; sin embargo, también es cierto que el lote tardará más en procesarse y solo dará como resultado una actualización. \n",
        "\n",
        "Se recomienda elegir un tamaño de lote que sea tan grande como pueda permitirse sin quedarse sin memoria (ya que los lotes más grandes generalmente resultarán en una evaluación / predicción más rápida).\n",
        "\n",
        "\n",
        "<img src=\"https://github.com/jcestevezc/Machine-Learning-Python/blob/master/Deep%20Learning/Batch%20Normalization%20Effects.PNG?raw=true\" width=\"600\">"
      ]
    },
    {
      "cell_type": "code",
      "metadata": {
        "id": "pqZwJ4HIWtnZ",
        "colab": {
          "base_uri": "https://localhost:8080/",
          "height": 697
        },
        "outputId": "78296855-70bc-47fd-db86-8e90af0876f1"
      },
      "source": [
        "history = model.fit(X_train, y_train, epochs= 20, batch_size = 500, callbacks=callbacks)"
      ],
      "execution_count": null,
      "outputs": [
        {
          "output_type": "stream",
          "text": [
            "Epoch 1/20\n",
            "9/9 [==============================] - 2s 171ms/step - loss: 0.6821 - accuracy: 0.7097\n",
            "Epoch 2/20\n",
            "9/9 [==============================] - 2s 171ms/step - loss: 0.6493 - accuracy: 0.8665\n",
            "Epoch 3/20\n",
            "9/9 [==============================] - 2s 171ms/step - loss: 0.6200 - accuracy: 0.8667\n",
            "Epoch 4/20\n",
            "9/9 [==============================] - 2s 170ms/step - loss: 0.5935 - accuracy: 0.8667\n",
            "Epoch 5/20\n",
            "9/9 [==============================] - 2s 169ms/step - loss: 0.5701 - accuracy: 0.8667\n",
            "Epoch 6/20\n",
            "9/9 [==============================] - 2s 167ms/step - loss: 0.5485 - accuracy: 0.8667\n",
            "Epoch 7/20\n",
            "9/9 [==============================] - 3s 342ms/step - loss: 0.5293 - accuracy: 0.8667\n",
            "Epoch 8/20\n",
            "9/9 [==============================] - 1s 165ms/step - loss: 0.5125 - accuracy: 0.8667\n",
            "Epoch 9/20\n",
            "9/9 [==============================] - 2s 169ms/step - loss: 0.4974 - accuracy: 0.8667\n",
            "Epoch 10/20\n",
            "9/9 [==============================] - 2s 167ms/step - loss: 0.4842 - accuracy: 0.8667\n",
            "Epoch 11/20\n",
            "9/9 [==============================] - 2s 170ms/step - loss: 0.4730 - accuracy: 0.8667\n",
            "Epoch 12/20\n",
            "9/9 [==============================] - 2s 170ms/step - loss: 0.4632 - accuracy: 0.8667\n",
            "Epoch 13/20\n",
            "9/9 [==============================] - 2s 167ms/step - loss: 0.4537 - accuracy: 0.8667\n",
            "Epoch 14/20\n",
            "9/9 [==============================] - 2s 168ms/step - loss: 0.4461 - accuracy: 0.8667\n",
            "Epoch 15/20\n",
            "9/9 [==============================] - 2s 170ms/step - loss: 0.4389 - accuracy: 0.8667\n",
            "Epoch 16/20\n",
            "9/9 [==============================] - 2s 173ms/step - loss: 0.4328 - accuracy: 0.8667\n",
            "Epoch 17/20\n",
            "9/9 [==============================] - 2s 168ms/step - loss: 0.4275 - accuracy: 0.8667\n",
            "Epoch 18/20\n",
            "9/9 [==============================] - 2s 171ms/step - loss: 0.4225 - accuracy: 0.8667\n",
            "Epoch 19/20\n",
            "9/9 [==============================] - 2s 169ms/step - loss: 0.4191 - accuracy: 0.8667\n",
            "Epoch 20/20\n",
            "9/9 [==============================] - 2s 167ms/step - loss: 0.4149 - accuracy: 0.8667\n"
          ],
          "name": "stdout"
        }
      ]
    },
    {
      "cell_type": "markdown",
      "metadata": {
        "id": "03zUwk4ohFDo"
      },
      "source": [
        "Una simulación de las variables a tener en cuenta al momento de construir una red neuronal, la pueden encontrar en el siguiente playground de [tensorflow](http://playground.tensorflow.org/).\n",
        "\n",
        "![Playground](https://github.com/jcestevezc/Machine-Learning-Techniques/blob/master/Laboratorio%205/Playground.PNG?raw=true)"
      ]
    },
    {
      "cell_type": "markdown",
      "metadata": {
        "id": "vS_0hWWIY8eQ"
      },
      "source": [
        "Hay muchos hiperparámetros por entonar en el modelo, afortunadamente podemos seguir utilizando GridSearch. Sin embargo, no lo recomendamos debido a la gran cantidad de hiperparámetros que hay que entrenar. \n",
        "\n",
        "Para ello, construimos una función que nos permita construir la Red Neuronal esperada y utilizamos la función [RandomizedSearchCV](https://scikit-learn.org/stable/modules/generated/sklearn.model_selection.RandomizedSearchCV.html)."
      ]
    },
    {
      "cell_type": "code",
      "metadata": {
        "id": "sDz6zg8kzFGz"
      },
      "source": [
        "def entrenarRed(nn1 = 512, nn2 = 100, n_layers= 2, dropout = 0.1, activacion_oculta = 'relu'):\n",
        "    clf = Sequential(name='Mi_Red')\n",
        "    output = 2\n",
        "    first = True\n",
        "\n",
        "    for i in range(n_layers):\n",
        "        if first:\n",
        "            clf.add(Dense(nn1, activation=activacion_oculta, name='Capa_Entrada'))\n",
        "            first = False\n",
        "        else:\n",
        "            clf.add(Dense(nn2, activation=activacion_oculta, name = 'Capa_Oculta_{0}'.format(i)))\n",
        "    \n",
        "    clf.add(Dropout(dropout,name='Dropout_{0}'.format(dropout)))\n",
        "    clf.add(Dense(output, activation='softmax', name= 'Capa_Salida'))\n",
        "\n",
        "    clf.compile(loss='categorical_crossentropy', optimizer='sgd', metrics=['accuracy'])\n",
        "    \n",
        "    return clf\n",
        "\n",
        "# Modelo que utiliza el GridSearch\n",
        "modelCV = KerasClassifier(build_fn=entrenarRed, epochs=20, batch_size=20, verbose=1,shuffle = True)\n"
      ],
      "execution_count": null,
      "outputs": []
    },
    {
      "cell_type": "code",
      "metadata": {
        "id": "KuUMWWM0vGjX"
      },
      "source": [
        "def my_custom_loss_func(y_true, y_pred):\n",
        "    return accuracy_score(y_true.argmax(axis=-1), y_pred)\n",
        "\n",
        "\n",
        "class toArray():\n",
        "    def __init__(self):\n",
        "        return\n",
        "\n",
        "    def transform(self, X, **transform_params):\n",
        "        return X.toarray()\n",
        "\n",
        "    def fit(self, X, y=None, **fit_params):\n",
        "        return self"
      ],
      "execution_count": null,
      "outputs": []
    },
    {
      "cell_type": "markdown",
      "metadata": {
        "id": "A2JJFhaWZ9gr"
      },
      "source": [
        "Con la función definida, se construye un pipeline para que el modelo solo tenga que recibir el texto que tiene que analizar, realice la transformación correspondiente y pueda realizar la clasificación con la mejor red encontrada."
      ]
    },
    {
      "cell_type": "code",
      "metadata": {
        "id": "rSnKwF4F0PLN"
      },
      "source": [
        "pipe = Pipeline([('transformacion',TfidfVectorizer()),\n",
        "                 ('matriz',toArray()),\n",
        "                  ('red_neuronal',modelCV)])\n",
        "\n",
        "param_grid = dict(transformacion=[TfidfVectorizer(),CountVectorizer()],\n",
        "                  red_neuronal__nn1 = [512, 10000, 100],\n",
        "                  red_neuronal__nn2 = [512, 10000, 100],\n",
        "                  red_neuronal__n_layers = [1,2],\n",
        "                  red_neuronal__dropout = [0.1,0.2,0.3],\n",
        "                  red_neuronal__activacion_oculta = ['relu','sigmoid']\n",
        "                  )\n",
        "\n",
        "score = make_scorer(my_custom_loss_func, greater_is_better=True)\n",
        "\n",
        "grid = RandomizedSearchCV(pipe, param_grid, scoring=score, verbose=1, cv = 3, n_iter=10, random_state=20)\n"
      ],
      "execution_count": null,
      "outputs": []
    },
    {
      "cell_type": "code",
      "metadata": {
        "id": "p_lbadPEab6G",
        "colab": {
          "base_uri": "https://localhost:8080/",
          "height": 1000
        },
        "outputId": "fa492ce3-9e03-47fc-db6b-f82d3388ccd8"
      },
      "source": [
        "grid.fit(X_train, y_train,red_neuronal__callbacks=callbacks)\n",
        "\n",
        "best_model = grid.best_estimator_"
      ],
      "execution_count": null,
      "outputs": [
        {
          "output_type": "stream",
          "text": [
            "Fitting 3 folds for each of 10 candidates, totalling 30 fits\n",
            "Epoch 1/20\n"
          ],
          "name": "stdout"
        },
        {
          "output_type": "stream",
          "text": [
            "[Parallel(n_jobs=1)]: Using backend SequentialBackend with 1 concurrent workers.\n"
          ],
          "name": "stderr"
        },
        {
          "output_type": "stream",
          "text": [
            "149/149 [==============================] - 31s 211ms/step - loss: 0.5028 - accuracy: 0.9101\n",
            "Epoch 2/20\n",
            "149/149 [==============================] - 32s 215ms/step - loss: 0.3212 - accuracy: 0.9313\n",
            "Epoch 3/20\n",
            "149/149 [==============================] - 31s 211ms/step - loss: 0.2504 - accuracy: 0.9421\n",
            "Epoch 4/20\n",
            "149/149 [==============================] - 32s 216ms/step - loss: 0.2125 - accuracy: 0.9522\n",
            "Epoch 5/20\n",
            "149/149 [==============================] - 32s 212ms/step - loss: 0.1873 - accuracy: 0.9573\n",
            "Epoch 6/20\n",
            "149/149 [==============================] - 32s 217ms/step - loss: 0.1693 - accuracy: 0.9596\n",
            "Epoch 7/20\n",
            "149/149 [==============================] - 31s 211ms/step - loss: 0.1544 - accuracy: 0.9616\n",
            "Epoch 8/20\n",
            "149/149 [==============================] - 32s 216ms/step - loss: 0.1420 - accuracy: 0.9640\n",
            "Epoch 9/20\n",
            "149/149 [==============================] - 32s 213ms/step - loss: 0.1311 - accuracy: 0.9657\n",
            "Epoch 10/20\n",
            "149/149 [==============================] - 32s 214ms/step - loss: 0.1215 - accuracy: 0.9684\n",
            "Epoch 11/20\n",
            "149/149 [==============================] - 32s 215ms/step - loss: 0.1120 - accuracy: 0.9680\n",
            "Epoch 12/20\n",
            "149/149 [==============================] - 32s 216ms/step - loss: 0.1049 - accuracy: 0.9700\n",
            "Epoch 13/20\n",
            "149/149 [==============================] - 33s 220ms/step - loss: 0.0979 - accuracy: 0.9714\n",
            "Epoch 14/20\n",
            "149/149 [==============================] - 32s 213ms/step - loss: 0.0906 - accuracy: 0.9724\n",
            "Epoch 15/20\n",
            "149/149 [==============================] - 33s 220ms/step - loss: 0.0845 - accuracy: 0.9754\n",
            "Epoch 16/20\n",
            "149/149 [==============================] - 32s 212ms/step - loss: 0.0791 - accuracy: 0.9761\n",
            "Epoch 17/20\n",
            "149/149 [==============================] - 31s 211ms/step - loss: 0.0736 - accuracy: 0.9785\n",
            "Epoch 18/20\n",
            "149/149 [==============================] - 31s 211ms/step - loss: 0.0692 - accuracy: 0.9788\n",
            "Epoch 19/20\n",
            "149/149 [==============================] - 33s 222ms/step - loss: 0.0635 - accuracy: 0.9818\n",
            "Epoch 20/20\n",
            "149/149 [==============================] - 31s 211ms/step - loss: 0.0598 - accuracy: 0.9842\n",
            "75/75 [==============================] - 6s 81ms/step\n",
            "Epoch 1/20\n",
            "149/149 [==============================] - 31s 207ms/step - loss: 0.5120 - accuracy: 0.9004\n",
            "Epoch 2/20\n",
            "149/149 [==============================] - 31s 207ms/step - loss: 0.3244 - accuracy: 0.9320\n",
            "Epoch 3/20\n",
            "149/149 [==============================] - 31s 207ms/step - loss: 0.2493 - accuracy: 0.9445\n",
            "Epoch 4/20\n",
            "149/149 [==============================] - 31s 208ms/step - loss: 0.2076 - accuracy: 0.9559\n",
            "Epoch 5/20\n",
            "149/149 [==============================] - 31s 207ms/step - loss: 0.1802 - accuracy: 0.9623\n",
            "Epoch 6/20\n",
            "149/149 [==============================] - 31s 210ms/step - loss: 0.1613 - accuracy: 0.9643\n",
            "Epoch 7/20\n",
            "149/149 [==============================] - 31s 209ms/step - loss: 0.1468 - accuracy: 0.9667\n",
            "Epoch 8/20\n",
            "149/149 [==============================] - 31s 210ms/step - loss: 0.1349 - accuracy: 0.9680\n",
            "Epoch 9/20\n",
            "149/149 [==============================] - 31s 207ms/step - loss: 0.1241 - accuracy: 0.9687\n",
            "Epoch 10/20\n",
            "149/149 [==============================] - 31s 207ms/step - loss: 0.1154 - accuracy: 0.9697\n",
            "Epoch 11/20\n",
            "149/149 [==============================] - 31s 206ms/step - loss: 0.1073 - accuracy: 0.9704\n",
            "Epoch 12/20\n",
            "149/149 [==============================] - 31s 207ms/step - loss: 0.1006 - accuracy: 0.9721\n",
            "Epoch 13/20\n",
            "149/149 [==============================] - 31s 207ms/step - loss: 0.0943 - accuracy: 0.9748\n",
            "Epoch 14/20\n",
            "149/149 [==============================] - 31s 211ms/step - loss: 0.0883 - accuracy: 0.9761\n",
            "Epoch 15/20\n",
            "149/149 [==============================] - 31s 208ms/step - loss: 0.0834 - accuracy: 0.9778\n",
            "Epoch 16/20\n",
            "149/149 [==============================] - 31s 211ms/step - loss: 0.0791 - accuracy: 0.9771\n",
            "Epoch 17/20\n",
            "149/149 [==============================] - 31s 206ms/step - loss: 0.0746 - accuracy: 0.9781\n",
            "Epoch 18/20\n",
            "149/149 [==============================] - 31s 207ms/step - loss: 0.0707 - accuracy: 0.9795\n",
            "Epoch 19/20\n",
            "149/149 [==============================] - 31s 207ms/step - loss: 0.0667 - accuracy: 0.9818\n",
            "Epoch 20/20\n",
            "149/149 [==============================] - 32s 212ms/step - loss: 0.0633 - accuracy: 0.9828\n",
            "75/75 [==============================] - 6s 80ms/step\n",
            "Epoch 1/20\n",
            "149/149 [==============================] - 31s 210ms/step - loss: 0.5033 - accuracy: 0.9031\n",
            "Epoch 2/20\n",
            "149/149 [==============================] - 31s 211ms/step - loss: 0.3166 - accuracy: 0.9344\n",
            "Epoch 3/20\n",
            "149/149 [==============================] - 32s 216ms/step - loss: 0.2458 - accuracy: 0.9431\n",
            "Epoch 4/20\n",
            "149/149 [==============================] - 31s 210ms/step - loss: 0.2091 - accuracy: 0.9502\n",
            "Epoch 5/20\n",
            "149/149 [==============================] - 32s 214ms/step - loss: 0.1842 - accuracy: 0.9556\n",
            "Epoch 6/20\n",
            "149/149 [==============================] - 31s 210ms/step - loss: 0.1673 - accuracy: 0.9606\n",
            "Epoch 7/20\n",
            "149/149 [==============================] - 32s 216ms/step - loss: 0.1532 - accuracy: 0.9623\n",
            "Epoch 8/20\n",
            "149/149 [==============================] - 32s 214ms/step - loss: 0.1421 - accuracy: 0.9637\n",
            "Epoch 9/20\n",
            "149/149 [==============================] - 32s 216ms/step - loss: 0.1318 - accuracy: 0.9653\n",
            "Epoch 10/20\n",
            "149/149 [==============================] - 31s 210ms/step - loss: 0.1238 - accuracy: 0.9664\n",
            "Epoch 11/20\n",
            "149/149 [==============================] - 31s 211ms/step - loss: 0.1156 - accuracy: 0.9684\n",
            "Epoch 12/20\n",
            "149/149 [==============================] - 31s 210ms/step - loss: 0.1080 - accuracy: 0.9684\n",
            "Epoch 13/20\n",
            "149/149 [==============================] - 32s 213ms/step - loss: 0.1016 - accuracy: 0.9704\n",
            "Epoch 14/20\n",
            "149/149 [==============================] - 32s 212ms/step - loss: 0.0953 - accuracy: 0.9717\n",
            "Epoch 15/20\n",
            "149/149 [==============================] - 31s 210ms/step - loss: 0.0895 - accuracy: 0.9731\n",
            "Epoch 16/20\n",
            "149/149 [==============================] - 32s 212ms/step - loss: 0.0834 - accuracy: 0.9754\n",
            "Epoch 17/20\n",
            "149/149 [==============================] - 32s 217ms/step - loss: 0.0788 - accuracy: 0.9758\n",
            "Epoch 18/20\n",
            "149/149 [==============================] - 32s 214ms/step - loss: 0.0744 - accuracy: 0.9771\n",
            "Epoch 19/20\n",
            "149/149 [==============================] - 32s 216ms/step - loss: 0.0710 - accuracy: 0.9795\n",
            "Epoch 20/20\n",
            "149/149 [==============================] - 32s 213ms/step - loss: 0.0665 - accuracy: 0.9798\n",
            "75/75 [==============================] - 6s 83ms/step\n",
            "Epoch 1/20\n",
            "149/149 [==============================] - 32s 213ms/step - loss: 0.4680 - accuracy: 0.8593\n",
            "Epoch 2/20\n",
            "149/149 [==============================] - 32s 215ms/step - loss: 0.3894 - accuracy: 0.8644\n",
            "Epoch 3/20\n",
            "149/149 [==============================] - 32s 212ms/step - loss: 0.3444 - accuracy: 0.8644\n",
            "Epoch 4/20\n",
            "149/149 [==============================] - 32s 212ms/step - loss: 0.3173 - accuracy: 0.8650\n",
            "Epoch 5/20\n",
            "149/149 [==============================] - 32s 212ms/step - loss: 0.3139 - accuracy: 0.8664\n",
            "Epoch 6/20\n",
            "149/149 [==============================] - 32s 215ms/step - loss: 0.2899 - accuracy: 0.8667\n",
            "Epoch 7/20\n",
            "149/149 [==============================] - 32s 215ms/step - loss: 0.2784 - accuracy: 0.8701\n",
            "Epoch 8/20\n",
            "149/149 [==============================] - 32s 214ms/step - loss: 0.2688 - accuracy: 0.8734\n",
            "Epoch 9/20\n",
            "149/149 [==============================] - 31s 211ms/step - loss: 0.2587 - accuracy: 0.8731\n",
            "Epoch 10/20\n",
            "149/149 [==============================] - 32s 215ms/step - loss: 0.2493 - accuracy: 0.8778\n",
            "Epoch 11/20\n",
            "149/149 [==============================] - 32s 218ms/step - loss: 0.2517 - accuracy: 0.8825\n",
            "Epoch 12/20\n",
            "149/149 [==============================] - 32s 213ms/step - loss: 0.2434 - accuracy: 0.8849\n",
            "Epoch 13/20\n",
            "149/149 [==============================] - 33s 219ms/step - loss: 0.2360 - accuracy: 0.8916\n",
            "Epoch 14/20\n",
            "149/149 [==============================] - 32s 213ms/step - loss: 0.2467 - accuracy: 0.8957\n",
            "Epoch 15/20\n",
            "149/149 [==============================] - 32s 214ms/step - loss: 0.2365 - accuracy: 0.9175\n",
            "Epoch 16/20\n",
            "149/149 [==============================] - 32s 213ms/step - loss: 0.2287 - accuracy: 0.8906\n",
            "Epoch 17/20\n",
            "149/149 [==============================] - 32s 216ms/step - loss: 0.2286 - accuracy: 0.8960\n",
            "Epoch 18/20\n",
            "149/149 [==============================] - 32s 212ms/step - loss: 0.2404 - accuracy: 0.9021\n",
            "Epoch 19/20\n",
            "149/149 [==============================] - 31s 211ms/step - loss: 0.2248 - accuracy: 0.9068\n",
            "Epoch 20/20\n",
            "149/149 [==============================] - 31s 211ms/step - loss: 0.2215 - accuracy: 0.9283\n",
            "75/75 [==============================] - 6s 83ms/step\n",
            "Epoch 1/20\n",
            "149/149 [==============================] - 31s 210ms/step - loss: 0.4490 - accuracy: 0.8593\n",
            "Epoch 2/20\n",
            "149/149 [==============================] - 31s 210ms/step - loss: 0.4127 - accuracy: 0.8633\n",
            "Epoch 3/20\n",
            "149/149 [==============================] - 31s 211ms/step - loss: 0.3686 - accuracy: 0.8644\n",
            "Epoch 4/20\n",
            "149/149 [==============================] - 32s 212ms/step - loss: 0.3646 - accuracy: 0.8670\n",
            "Epoch 5/20\n",
            "149/149 [==============================] - 31s 208ms/step - loss: 0.3136 - accuracy: 0.8650\n",
            "Epoch 6/20\n",
            "149/149 [==============================] - 32s 212ms/step - loss: 0.2922 - accuracy: 0.8667\n",
            "Epoch 7/20\n",
            "149/149 [==============================] - 31s 209ms/step - loss: 0.2787 - accuracy: 0.8694\n",
            "Epoch 8/20\n",
            "149/149 [==============================] - 31s 210ms/step - loss: 0.2775 - accuracy: 0.8765\n",
            "Epoch 9/20\n",
            "149/149 [==============================] - 31s 209ms/step - loss: 0.2675 - accuracy: 0.8846\n",
            "Epoch 10/20\n",
            "149/149 [==============================] - 32s 212ms/step - loss: 0.2631 - accuracy: 0.8990\n",
            "Epoch 11/20\n",
            "149/149 [==============================] - 31s 210ms/step - loss: 0.2556 - accuracy: 0.9084\n",
            "Epoch 12/20\n",
            "149/149 [==============================] - 32s 215ms/step - loss: 0.2519 - accuracy: 0.8667\n",
            "Epoch 13/20\n",
            "149/149 [==============================] - 31s 209ms/step - loss: 0.2448 - accuracy: 0.8734\n",
            "Epoch 14/20\n",
            "149/149 [==============================] - 31s 209ms/step - loss: 0.2281 - accuracy: 0.8738\n",
            "Epoch 15/20\n",
            "149/149 [==============================] - 31s 211ms/step - loss: 0.2335 - accuracy: 0.8765\n",
            "Epoch 16/20\n",
            "149/149 [==============================] - 32s 213ms/step - loss: 0.2308 - accuracy: 0.8775\n",
            "Epoch 17/20\n",
            "149/149 [==============================] - 31s 211ms/step - loss: 0.2306 - accuracy: 0.8788\n",
            "Epoch 00017: early stopping\n",
            "75/75 [==============================] - 6s 81ms/step\n",
            "Epoch 1/20\n",
            "149/149 [==============================] - 31s 211ms/step - loss: 0.4347 - accuracy: 0.8674\n",
            "Epoch 2/20\n",
            "149/149 [==============================] - 31s 211ms/step - loss: 0.3590 - accuracy: 0.8731\n",
            "Epoch 3/20\n",
            "149/149 [==============================] - 31s 210ms/step - loss: 0.3431 - accuracy: 0.8731\n",
            "Epoch 4/20\n",
            "149/149 [==============================] - 32s 218ms/step - loss: 0.3176 - accuracy: 0.8738\n",
            "Epoch 5/20\n",
            "149/149 [==============================] - 31s 211ms/step - loss: 0.2993 - accuracy: 0.8745\n",
            "Epoch 6/20\n",
            "149/149 [==============================] - 32s 216ms/step - loss: 0.2889 - accuracy: 0.8762\n",
            "Epoch 7/20\n",
            "149/149 [==============================] - 32s 213ms/step - loss: 0.2794 - accuracy: 0.8775\n",
            "Epoch 8/20\n",
            "149/149 [==============================] - 33s 221ms/step - loss: 0.2605 - accuracy: 0.8792\n",
            "Epoch 9/20\n",
            "149/149 [==============================] - 32s 215ms/step - loss: 0.2589 - accuracy: 0.8816\n",
            "Epoch 10/20\n",
            "149/149 [==============================] - 32s 211ms/step - loss: 0.2503 - accuracy: 0.8836\n",
            "Epoch 11/20\n",
            "149/149 [==============================] - 32s 214ms/step - loss: 0.2584 - accuracy: 0.8859\n",
            "Epoch 12/20\n",
            "149/149 [==============================] - 32s 213ms/step - loss: 0.2434 - accuracy: 0.8856\n",
            "Epoch 13/20\n",
            "149/149 [==============================] - 32s 215ms/step - loss: 0.2292 - accuracy: 0.8906\n",
            "Epoch 14/20\n",
            "149/149 [==============================] - 31s 210ms/step - loss: 0.2378 - accuracy: 0.8910\n",
            "Epoch 15/20\n",
            "149/149 [==============================] - 32s 214ms/step - loss: 0.2411 - accuracy: 0.8947\n",
            "Epoch 16/20\n",
            "149/149 [==============================] - 31s 211ms/step - loss: 0.2289 - accuracy: 0.9014\n",
            "Epoch 17/20\n",
            "149/149 [==============================] - 32s 213ms/step - loss: 0.2199 - accuracy: 0.9048\n",
            "Epoch 18/20\n",
            "149/149 [==============================] - 32s 212ms/step - loss: 0.2267 - accuracy: 0.9085\n",
            "Epoch 19/20\n",
            "149/149 [==============================] - 32s 213ms/step - loss: 0.2177 - accuracy: 0.9250\n",
            "Epoch 20/20\n",
            "149/149 [==============================] - 31s 210ms/step - loss: 0.2317 - accuracy: 0.9334\n",
            "75/75 [==============================] - 6s 81ms/step\n",
            "Epoch 1/20\n",
            "149/149 [==============================] - 8s 55ms/step - loss: 0.6201 - accuracy: 0.8640\n",
            "Epoch 2/20\n",
            "149/149 [==============================] - 8s 53ms/step - loss: 0.5080 - accuracy: 0.8644\n",
            "Epoch 3/20\n",
            "149/149 [==============================] - 8s 52ms/step - loss: 0.4415 - accuracy: 0.8644\n",
            "Epoch 4/20\n",
            "149/149 [==============================] - 8s 51ms/step - loss: 0.4105 - accuracy: 0.8644\n",
            "Epoch 5/20\n",
            "149/149 [==============================] - 8s 52ms/step - loss: 0.3987 - accuracy: 0.8644\n",
            "Epoch 6/20\n",
            "149/149 [==============================] - 8s 51ms/step - loss: 0.3940 - accuracy: 0.8644\n",
            "Epoch 7/20\n",
            "149/149 [==============================] - 8s 52ms/step - loss: 0.3915 - accuracy: 0.8644\n",
            "Epoch 8/20\n",
            "149/149 [==============================] - 8s 54ms/step - loss: 0.3899 - accuracy: 0.8644\n",
            "Epoch 9/20\n",
            "149/149 [==============================] - 8s 54ms/step - loss: 0.3878 - accuracy: 0.8644\n",
            "Epoch 10/20\n",
            "149/149 [==============================] - 8s 52ms/step - loss: 0.3857 - accuracy: 0.8644\n",
            "Epoch 11/20\n",
            "149/149 [==============================] - 8s 51ms/step - loss: 0.3836 - accuracy: 0.8644\n",
            "Epoch 12/20\n",
            "149/149 [==============================] - 8s 51ms/step - loss: 0.3809 - accuracy: 0.8644\n",
            "Epoch 13/20\n",
            "149/149 [==============================] - 8s 53ms/step - loss: 0.3774 - accuracy: 0.8644\n",
            "Epoch 14/20\n",
            "149/149 [==============================] - 8s 51ms/step - loss: 0.3737 - accuracy: 0.8644\n",
            "Epoch 15/20\n",
            "149/149 [==============================] - 8s 52ms/step - loss: 0.3694 - accuracy: 0.8644\n",
            "Epoch 16/20\n",
            "149/149 [==============================] - 8s 51ms/step - loss: 0.3644 - accuracy: 0.8644\n",
            "Epoch 17/20\n",
            "149/149 [==============================] - 8s 52ms/step - loss: 0.3585 - accuracy: 0.8644\n",
            "Epoch 18/20\n",
            "149/149 [==============================] - 8s 52ms/step - loss: 0.3517 - accuracy: 0.8644\n",
            "Epoch 19/20\n",
            "149/149 [==============================] - 8s 52ms/step - loss: 0.3438 - accuracy: 0.8644\n",
            "Epoch 20/20\n",
            "149/149 [==============================] - 8s 52ms/step - loss: 0.3351 - accuracy: 0.8644\n",
            "75/75 [==============================] - 1s 13ms/step\n",
            "Epoch 1/20\n",
            "149/149 [==============================] - 8s 52ms/step - loss: 0.6237 - accuracy: 0.8593\n",
            "Epoch 2/20\n",
            "149/149 [==============================] - 8s 51ms/step - loss: 0.5133 - accuracy: 0.8627\n",
            "Epoch 3/20\n",
            "149/149 [==============================] - 8s 54ms/step - loss: 0.4468 - accuracy: 0.8627\n",
            "Epoch 4/20\n",
            "149/149 [==============================] - 8s 55ms/step - loss: 0.4148 - accuracy: 0.8627\n",
            "Epoch 5/20\n",
            "149/149 [==============================] - 8s 53ms/step - loss: 0.4027 - accuracy: 0.8627\n",
            "Epoch 6/20\n",
            "149/149 [==============================] - 8s 50ms/step - loss: 0.3976 - accuracy: 0.8627\n",
            "Epoch 7/20\n",
            "149/149 [==============================] - 8s 51ms/step - loss: 0.3954 - accuracy: 0.8627\n",
            "Epoch 8/20\n",
            "149/149 [==============================] - 8s 51ms/step - loss: 0.3936 - accuracy: 0.8627\n",
            "Epoch 9/20\n",
            "149/149 [==============================] - 8s 51ms/step - loss: 0.3918 - accuracy: 0.8627\n",
            "Epoch 10/20\n",
            "149/149 [==============================] - 8s 51ms/step - loss: 0.3897 - accuracy: 0.8627\n",
            "Epoch 11/20\n",
            "149/149 [==============================] - 8s 56ms/step - loss: 0.3875 - accuracy: 0.8627\n",
            "Epoch 12/20\n",
            "149/149 [==============================] - 8s 54ms/step - loss: 0.3847 - accuracy: 0.8627\n",
            "Epoch 13/20\n",
            "149/149 [==============================] - 8s 52ms/step - loss: 0.3816 - accuracy: 0.8627\n",
            "Epoch 14/20\n",
            "149/149 [==============================] - 8s 51ms/step - loss: 0.3776 - accuracy: 0.8627\n",
            "Epoch 15/20\n",
            "149/149 [==============================] - 8s 51ms/step - loss: 0.3733 - accuracy: 0.8627\n",
            "Epoch 16/20\n",
            "149/149 [==============================] - 8s 51ms/step - loss: 0.3679 - accuracy: 0.8627\n",
            "Epoch 17/20\n",
            "149/149 [==============================] - 8s 51ms/step - loss: 0.3619 - accuracy: 0.8627\n",
            "Epoch 18/20\n",
            "149/149 [==============================] - 8s 51ms/step - loss: 0.3548 - accuracy: 0.8627\n",
            "Epoch 19/20\n",
            "149/149 [==============================] - 8s 55ms/step - loss: 0.3465 - accuracy: 0.8627\n",
            "Epoch 20/20\n",
            "149/149 [==============================] - 8s 52ms/step - loss: 0.3371 - accuracy: 0.8627\n",
            "75/75 [==============================] - 1s 12ms/step\n",
            "Epoch 1/20\n",
            "149/149 [==============================] - 8s 52ms/step - loss: 0.6190 - accuracy: 0.8694\n",
            "Epoch 2/20\n",
            "149/149 [==============================] - 8s 52ms/step - loss: 0.5010 - accuracy: 0.8731\n",
            "Epoch 3/20\n",
            "149/149 [==============================] - 8s 52ms/step - loss: 0.4299 - accuracy: 0.8731\n",
            "Epoch 4/20\n",
            "149/149 [==============================] - 8s 53ms/step - loss: 0.3967 - accuracy: 0.8731\n",
            "Epoch 5/20\n",
            "149/149 [==============================] - 8s 52ms/step - loss: 0.3840 - accuracy: 0.8731\n",
            "Epoch 6/20\n",
            "149/149 [==============================] - 8s 54ms/step - loss: 0.3790 - accuracy: 0.8731\n",
            "Epoch 7/20\n",
            "149/149 [==============================] - 8s 53ms/step - loss: 0.3769 - accuracy: 0.8731\n",
            "Epoch 8/20\n",
            "149/149 [==============================] - 8s 52ms/step - loss: 0.3751 - accuracy: 0.8731\n",
            "Epoch 9/20\n",
            "149/149 [==============================] - 8s 52ms/step - loss: 0.3738 - accuracy: 0.8731\n",
            "Epoch 10/20\n",
            "149/149 [==============================] - 8s 52ms/step - loss: 0.3720 - accuracy: 0.8731\n",
            "Epoch 11/20\n",
            "149/149 [==============================] - 8s 50ms/step - loss: 0.3700 - accuracy: 0.8731\n",
            "Epoch 12/20\n",
            "149/149 [==============================] - 8s 51ms/step - loss: 0.3680 - accuracy: 0.8731\n",
            "Epoch 13/20\n",
            "149/149 [==============================] - 7s 50ms/step - loss: 0.3655 - accuracy: 0.8731\n",
            "Epoch 14/20\n",
            "149/149 [==============================] - 8s 55ms/step - loss: 0.3625 - accuracy: 0.8731\n",
            "Epoch 15/20\n",
            "149/149 [==============================] - 8s 52ms/step - loss: 0.3587 - accuracy: 0.8731\n",
            "Epoch 16/20\n",
            "149/149 [==============================] - 7s 50ms/step - loss: 0.3552 - accuracy: 0.8731\n",
            "Epoch 17/20\n",
            "149/149 [==============================] - 8s 51ms/step - loss: 0.3501 - accuracy: 0.8731\n",
            "Epoch 18/20\n",
            "149/149 [==============================] - 8s 51ms/step - loss: 0.3446 - accuracy: 0.8731\n",
            "Epoch 19/20\n",
            "149/149 [==============================] - 8s 51ms/step - loss: 0.3385 - accuracy: 0.8731\n",
            "Epoch 20/20\n",
            "149/149 [==============================] - 8s 51ms/step - loss: 0.3311 - accuracy: 0.8731\n",
            "75/75 [==============================] - 1s 12ms/step\n",
            "Epoch 1/20\n",
            "149/149 [==============================] - 2s 14ms/step - loss: 0.5750 - accuracy: 0.8933\n",
            "Epoch 2/20\n",
            "149/149 [==============================] - 2s 14ms/step - loss: 0.3620 - accuracy: 0.9286\n",
            "Epoch 3/20\n",
            "149/149 [==============================] - 2s 16ms/step - loss: 0.2283 - accuracy: 0.9431\n",
            "Epoch 4/20\n",
            "149/149 [==============================] - 2s 15ms/step - loss: 0.1736 - accuracy: 0.9552\n",
            "Epoch 5/20\n",
            "149/149 [==============================] - 2s 15ms/step - loss: 0.1436 - accuracy: 0.9616\n",
            "Epoch 6/20\n",
            "149/149 [==============================] - 2s 15ms/step - loss: 0.1248 - accuracy: 0.9636\n",
            "Epoch 7/20\n",
            "149/149 [==============================] - 2s 14ms/step - loss: 0.1101 - accuracy: 0.9663\n",
            "Epoch 8/20\n",
            "149/149 [==============================] - 2s 14ms/step - loss: 0.1000 - accuracy: 0.9687\n",
            "Epoch 9/20\n",
            "149/149 [==============================] - 2s 14ms/step - loss: 0.0924 - accuracy: 0.9707\n",
            "Epoch 10/20\n",
            "149/149 [==============================] - 2s 14ms/step - loss: 0.0819 - accuracy: 0.9731\n",
            "Epoch 11/20\n",
            "149/149 [==============================] - 2s 14ms/step - loss: 0.0756 - accuracy: 0.9754\n",
            "Epoch 12/20\n",
            "149/149 [==============================] - 2s 14ms/step - loss: 0.0681 - accuracy: 0.9788\n",
            "Epoch 13/20\n",
            "149/149 [==============================] - 2s 14ms/step - loss: 0.0627 - accuracy: 0.9801\n",
            "Epoch 14/20\n",
            "149/149 [==============================] - 2s 13ms/step - loss: 0.0562 - accuracy: 0.9832\n",
            "Epoch 15/20\n",
            "149/149 [==============================] - 2s 14ms/step - loss: 0.0521 - accuracy: 0.9835\n",
            "Epoch 16/20\n",
            "149/149 [==============================] - 2s 15ms/step - loss: 0.0474 - accuracy: 0.9862\n",
            "Epoch 17/20\n",
            "149/149 [==============================] - 2s 14ms/step - loss: 0.0435 - accuracy: 0.9865\n",
            "Epoch 18/20\n",
            "149/149 [==============================] - 2s 14ms/step - loss: 0.0391 - accuracy: 0.9879\n",
            "Epoch 19/20\n",
            "149/149 [==============================] - 2s 14ms/step - loss: 0.0355 - accuracy: 0.9906\n",
            "Epoch 20/20\n",
            "149/149 [==============================] - 2s 14ms/step - loss: 0.0315 - accuracy: 0.9899\n",
            "75/75 [==============================] - 0s 6ms/step\n",
            "Epoch 1/20\n",
            "149/149 [==============================] - 2s 14ms/step - loss: 0.5704 - accuracy: 0.8936\n",
            "Epoch 2/20\n",
            "149/149 [==============================] - 2s 13ms/step - loss: 0.3389 - accuracy: 0.9371\n",
            "Epoch 3/20\n",
            "149/149 [==============================] - 2s 14ms/step - loss: 0.2102 - accuracy: 0.9512\n",
            "Epoch 4/20\n",
            "149/149 [==============================] - 2s 14ms/step - loss: 0.1570 - accuracy: 0.9643\n",
            "Epoch 5/20\n",
            "149/149 [==============================] - 2s 14ms/step - loss: 0.1304 - accuracy: 0.9657\n",
            "Epoch 6/20\n",
            "149/149 [==============================] - 2s 14ms/step - loss: 0.1130 - accuracy: 0.9684\n",
            "Epoch 7/20\n",
            "149/149 [==============================] - 2s 14ms/step - loss: 0.0989 - accuracy: 0.9707\n",
            "Epoch 8/20\n",
            "149/149 [==============================] - 2s 14ms/step - loss: 0.0882 - accuracy: 0.9737\n",
            "Epoch 9/20\n",
            "149/149 [==============================] - 2s 14ms/step - loss: 0.0781 - accuracy: 0.9768\n",
            "Epoch 10/20\n",
            "149/149 [==============================] - 2s 14ms/step - loss: 0.0711 - accuracy: 0.9788\n",
            "Epoch 11/20\n",
            "149/149 [==============================] - 2s 15ms/step - loss: 0.0654 - accuracy: 0.9801\n",
            "Epoch 12/20\n",
            "149/149 [==============================] - 2s 16ms/step - loss: 0.0593 - accuracy: 0.9835\n",
            "Epoch 13/20\n",
            "149/149 [==============================] - 2s 15ms/step - loss: 0.0548 - accuracy: 0.9852\n",
            "Epoch 14/20\n",
            "149/149 [==============================] - 2s 15ms/step - loss: 0.0496 - accuracy: 0.9872\n",
            "Epoch 15/20\n",
            "149/149 [==============================] - 2s 15ms/step - loss: 0.0473 - accuracy: 0.9879\n",
            "Epoch 16/20\n",
            "149/149 [==============================] - 2s 15ms/step - loss: 0.0440 - accuracy: 0.9892\n",
            "Epoch 17/20\n",
            "149/149 [==============================] - 2s 14ms/step - loss: 0.0419 - accuracy: 0.9886\n",
            "Epoch 18/20\n",
            "149/149 [==============================] - 2s 14ms/step - loss: 0.0386 - accuracy: 0.9902\n",
            "Epoch 19/20\n",
            "149/149 [==============================] - 2s 14ms/step - loss: 0.0368 - accuracy: 0.9906\n",
            "Epoch 20/20\n",
            "149/149 [==============================] - 2s 14ms/step - loss: 0.0337 - accuracy: 0.9916\n",
            "75/75 [==============================] - 0s 5ms/step\n",
            "Epoch 1/20\n",
            "149/149 [==============================] - 2s 13ms/step - loss: 0.5457 - accuracy: 0.9048\n",
            "Epoch 2/20\n",
            "149/149 [==============================] - 2s 13ms/step - loss: 0.3276 - accuracy: 0.9310\n",
            "Epoch 3/20\n",
            "149/149 [==============================] - 2s 14ms/step - loss: 0.2177 - accuracy: 0.9431\n",
            "Epoch 4/20\n",
            "149/149 [==============================] - 2s 13ms/step - loss: 0.1678 - accuracy: 0.9552\n",
            "Epoch 5/20\n",
            "149/149 [==============================] - 2s 13ms/step - loss: 0.1442 - accuracy: 0.9613\n",
            "Epoch 6/20\n",
            "149/149 [==============================] - 2s 13ms/step - loss: 0.1281 - accuracy: 0.9640\n",
            "Epoch 7/20\n",
            "149/149 [==============================] - 2s 13ms/step - loss: 0.1166 - accuracy: 0.9653\n",
            "Epoch 8/20\n",
            "149/149 [==============================] - 2s 16ms/step - loss: 0.1055 - accuracy: 0.9680\n",
            "Epoch 9/20\n",
            "149/149 [==============================] - 2s 13ms/step - loss: 0.0970 - accuracy: 0.9707\n",
            "Epoch 10/20\n",
            "149/149 [==============================] - 2s 14ms/step - loss: 0.0887 - accuracy: 0.9707\n",
            "Epoch 11/20\n",
            "149/149 [==============================] - 2s 14ms/step - loss: 0.0814 - accuracy: 0.9731\n",
            "Epoch 12/20\n",
            "149/149 [==============================] - 2s 14ms/step - loss: 0.0754 - accuracy: 0.9744\n",
            "Epoch 13/20\n",
            "149/149 [==============================] - 2s 13ms/step - loss: 0.0688 - accuracy: 0.9771\n",
            "Epoch 14/20\n",
            "149/149 [==============================] - 2s 14ms/step - loss: 0.0639 - accuracy: 0.9785\n",
            "Epoch 15/20\n",
            "149/149 [==============================] - 2s 14ms/step - loss: 0.0592 - accuracy: 0.9808\n",
            "Epoch 16/20\n",
            "149/149 [==============================] - 2s 14ms/step - loss: 0.0555 - accuracy: 0.9812\n",
            "Epoch 17/20\n",
            "149/149 [==============================] - 2s 14ms/step - loss: 0.0505 - accuracy: 0.9842\n",
            "Epoch 18/20\n",
            "149/149 [==============================] - 2s 15ms/step - loss: 0.0463 - accuracy: 0.9852\n",
            "Epoch 19/20\n",
            "149/149 [==============================] - 2s 16ms/step - loss: 0.0412 - accuracy: 0.9869\n",
            "Epoch 20/20\n",
            "149/149 [==============================] - 2s 15ms/step - loss: 0.0389 - accuracy: 0.9882\n",
            "75/75 [==============================] - 1s 7ms/step\n",
            "Epoch 1/20\n",
            "149/149 [==============================] - 1s 5ms/step - loss: 0.4364 - accuracy: 0.8445\n",
            "Epoch 2/20\n",
            "149/149 [==============================] - 1s 5ms/step - loss: 0.3996 - accuracy: 0.8644\n",
            "Epoch 3/20\n",
            "149/149 [==============================] - 1s 6ms/step - loss: 0.3971 - accuracy: 0.8644\n",
            "Epoch 4/20\n",
            "149/149 [==============================] - 1s 5ms/step - loss: 0.3883 - accuracy: 0.8644\n",
            "Epoch 5/20\n",
            "149/149 [==============================] - 1s 5ms/step - loss: 0.3821 - accuracy: 0.8644\n",
            "Epoch 6/20\n",
            "149/149 [==============================] - 1s 5ms/step - loss: 0.3796 - accuracy: 0.8644\n",
            "Epoch 7/20\n",
            "149/149 [==============================] - 1s 5ms/step - loss: 0.3715 - accuracy: 0.8644\n",
            "Epoch 8/20\n",
            "149/149 [==============================] - 1s 4ms/step - loss: 0.3628 - accuracy: 0.8644\n",
            "Epoch 9/20\n",
            "149/149 [==============================] - 1s 5ms/step - loss: 0.3525 - accuracy: 0.8644\n",
            "Epoch 10/20\n",
            "149/149 [==============================] - 1s 5ms/step - loss: 0.3474 - accuracy: 0.8654\n",
            "Epoch 11/20\n",
            "149/149 [==============================] - 1s 5ms/step - loss: 0.3453 - accuracy: 0.8667\n",
            "Epoch 12/20\n",
            "149/149 [==============================] - 1s 5ms/step - loss: 0.3259 - accuracy: 0.8694\n",
            "Epoch 13/20\n",
            "149/149 [==============================] - 1s 5ms/step - loss: 0.3129 - accuracy: 0.8755\n",
            "Epoch 14/20\n",
            "149/149 [==============================] - 1s 5ms/step - loss: 0.2997 - accuracy: 0.8788\n",
            "Epoch 15/20\n",
            "149/149 [==============================] - 1s 5ms/step - loss: 0.2864 - accuracy: 0.8920\n",
            "Epoch 16/20\n",
            "149/149 [==============================] - 1s 5ms/step - loss: 0.2716 - accuracy: 0.9024\n",
            "Epoch 17/20\n",
            "149/149 [==============================] - 1s 5ms/step - loss: 0.2570 - accuracy: 0.9081\n",
            "Epoch 18/20\n",
            "149/149 [==============================] - 1s 4ms/step - loss: 0.2456 - accuracy: 0.9148\n",
            "Epoch 19/20\n",
            "149/149 [==============================] - 1s 4ms/step - loss: 0.2361 - accuracy: 0.9219\n",
            "Epoch 20/20\n",
            "149/149 [==============================] - 1s 5ms/step - loss: 0.2211 - accuracy: 0.9280\n",
            "75/75 [==============================] - 0s 2ms/step\n",
            "Epoch 1/20\n",
            "149/149 [==============================] - 1s 5ms/step - loss: 0.5103 - accuracy: 0.7745\n",
            "Epoch 2/20\n",
            "149/149 [==============================] - 1s 4ms/step - loss: 0.4063 - accuracy: 0.8627\n",
            "Epoch 3/20\n",
            "149/149 [==============================] - 1s 5ms/step - loss: 0.4005 - accuracy: 0.8627\n",
            "Epoch 4/20\n",
            "149/149 [==============================] - 1s 5ms/step - loss: 0.3990 - accuracy: 0.8627\n",
            "Epoch 5/20\n",
            "149/149 [==============================] - 1s 5ms/step - loss: 0.3970 - accuracy: 0.8627\n",
            "Epoch 6/20\n",
            "149/149 [==============================] - 1s 4ms/step - loss: 0.3913 - accuracy: 0.8627\n",
            "Epoch 7/20\n",
            "149/149 [==============================] - 1s 4ms/step - loss: 0.3906 - accuracy: 0.8627\n",
            "Epoch 8/20\n",
            "149/149 [==============================] - 1s 5ms/step - loss: 0.3865 - accuracy: 0.8627\n",
            "Epoch 9/20\n",
            "149/149 [==============================] - 1s 5ms/step - loss: 0.3803 - accuracy: 0.8627\n",
            "Epoch 10/20\n",
            "149/149 [==============================] - 1s 5ms/step - loss: 0.3746 - accuracy: 0.8627\n",
            "Epoch 11/20\n",
            "149/149 [==============================] - 1s 5ms/step - loss: 0.3686 - accuracy: 0.8627\n",
            "Epoch 12/20\n",
            "149/149 [==============================] - 1s 5ms/step - loss: 0.3628 - accuracy: 0.8627\n",
            "Epoch 13/20\n",
            "149/149 [==============================] - 1s 4ms/step - loss: 0.3628 - accuracy: 0.8627\n",
            "Epoch 14/20\n",
            "149/149 [==============================] - 1s 5ms/step - loss: 0.3501 - accuracy: 0.8627\n",
            "Epoch 15/20\n",
            "149/149 [==============================] - 1s 5ms/step - loss: 0.3447 - accuracy: 0.8633\n",
            "Epoch 16/20\n",
            "149/149 [==============================] - 1s 5ms/step - loss: 0.3358 - accuracy: 0.8633\n",
            "Epoch 17/20\n",
            "149/149 [==============================] - 1s 5ms/step - loss: 0.3265 - accuracy: 0.8657\n",
            "Epoch 18/20\n",
            "149/149 [==============================] - 1s 5ms/step - loss: 0.3124 - accuracy: 0.8728\n",
            "Epoch 19/20\n",
            "149/149 [==============================] - 1s 5ms/step - loss: 0.2993 - accuracy: 0.8805\n",
            "Epoch 20/20\n",
            "149/149 [==============================] - 1s 5ms/step - loss: 0.2908 - accuracy: 0.8876\n",
            "75/75 [==============================] - 0s 2ms/step\n",
            "Epoch 1/20\n",
            "149/149 [==============================] - 1s 4ms/step - loss: 0.4052 - accuracy: 0.8694\n",
            "Epoch 2/20\n",
            "149/149 [==============================] - 1s 5ms/step - loss: 0.3881 - accuracy: 0.8731\n",
            "Epoch 3/20\n",
            "149/149 [==============================] - 1s 5ms/step - loss: 0.3818 - accuracy: 0.8731\n",
            "Epoch 4/20\n",
            "149/149 [==============================] - 1s 5ms/step - loss: 0.3746 - accuracy: 0.8731\n",
            "Epoch 5/20\n",
            "149/149 [==============================] - 1s 5ms/step - loss: 0.3670 - accuracy: 0.8731\n",
            "Epoch 6/20\n",
            "149/149 [==============================] - 1s 5ms/step - loss: 0.3677 - accuracy: 0.8731\n",
            "Epoch 7/20\n",
            "149/149 [==============================] - 1s 5ms/step - loss: 0.3624 - accuracy: 0.8731\n",
            "Epoch 8/20\n",
            "149/149 [==============================] - 1s 5ms/step - loss: 0.3615 - accuracy: 0.8731\n",
            "Epoch 9/20\n",
            "149/149 [==============================] - 1s 5ms/step - loss: 0.3497 - accuracy: 0.8731\n",
            "Epoch 10/20\n",
            "149/149 [==============================] - 1s 5ms/step - loss: 0.3414 - accuracy: 0.8735\n",
            "Epoch 11/20\n",
            "149/149 [==============================] - 1s 5ms/step - loss: 0.3372 - accuracy: 0.8735\n",
            "Epoch 12/20\n",
            "149/149 [==============================] - 1s 5ms/step - loss: 0.3324 - accuracy: 0.8738\n",
            "Epoch 13/20\n",
            "149/149 [==============================] - 1s 5ms/step - loss: 0.3216 - accuracy: 0.8755\n",
            "Epoch 14/20\n",
            "149/149 [==============================] - 1s 5ms/step - loss: 0.3129 - accuracy: 0.8782\n",
            "Epoch 15/20\n",
            "149/149 [==============================] - 1s 5ms/step - loss: 0.3005 - accuracy: 0.8843\n",
            "Epoch 16/20\n",
            "149/149 [==============================] - 1s 5ms/step - loss: 0.2929 - accuracy: 0.8863\n",
            "Epoch 17/20\n",
            "149/149 [==============================] - 1s 4ms/step - loss: 0.2781 - accuracy: 0.8970\n",
            "Epoch 18/20\n",
            "149/149 [==============================] - 1s 5ms/step - loss: 0.2666 - accuracy: 0.9055\n",
            "Epoch 19/20\n",
            "149/149 [==============================] - 1s 5ms/step - loss: 0.2553 - accuracy: 0.9102\n",
            "Epoch 20/20\n",
            "149/149 [==============================] - 1s 5ms/step - loss: 0.2418 - accuracy: 0.9182\n",
            "75/75 [==============================] - 0s 2ms/step\n",
            "Epoch 1/20\n",
            "149/149 [==============================] - 2s 13ms/step - loss: 0.5766 - accuracy: 0.9091\n",
            "Epoch 2/20\n",
            "149/149 [==============================] - 2s 13ms/step - loss: 0.3991 - accuracy: 0.9408\n",
            "Epoch 3/20\n",
            "149/149 [==============================] - 2s 13ms/step - loss: 0.2826 - accuracy: 0.9458\n",
            "Epoch 4/20\n",
            "149/149 [==============================] - 2s 13ms/step - loss: 0.2159 - accuracy: 0.9536\n",
            "Epoch 5/20\n",
            "149/149 [==============================] - 2s 15ms/step - loss: 0.1775 - accuracy: 0.9586\n",
            "Epoch 6/20\n",
            "149/149 [==============================] - 2s 15ms/step - loss: 0.1548 - accuracy: 0.9603\n",
            "Epoch 7/20\n",
            "149/149 [==============================] - 2s 14ms/step - loss: 0.1381 - accuracy: 0.9620\n",
            "Epoch 8/20\n",
            "149/149 [==============================] - 2s 14ms/step - loss: 0.1267 - accuracy: 0.9636\n",
            "Epoch 9/20\n",
            "149/149 [==============================] - 2s 14ms/step - loss: 0.1172 - accuracy: 0.9643\n",
            "Epoch 10/20\n",
            "149/149 [==============================] - 2s 14ms/step - loss: 0.1109 - accuracy: 0.9653\n",
            "Epoch 11/20\n",
            "149/149 [==============================] - 2s 14ms/step - loss: 0.1018 - accuracy: 0.9677\n",
            "Epoch 12/20\n",
            "149/149 [==============================] - 2s 13ms/step - loss: 0.0955 - accuracy: 0.9694\n",
            "Epoch 13/20\n",
            "149/149 [==============================] - 2s 13ms/step - loss: 0.0898 - accuracy: 0.9700\n",
            "Epoch 14/20\n",
            "149/149 [==============================] - 2s 13ms/step - loss: 0.0852 - accuracy: 0.9707\n",
            "Epoch 15/20\n",
            "149/149 [==============================] - 2s 14ms/step - loss: 0.0801 - accuracy: 0.9737\n",
            "Epoch 16/20\n",
            "149/149 [==============================] - 2s 13ms/step - loss: 0.0764 - accuracy: 0.9741\n",
            "Epoch 17/20\n",
            "149/149 [==============================] - 2s 13ms/step - loss: 0.0728 - accuracy: 0.9768\n",
            "Epoch 18/20\n",
            "149/149 [==============================] - 2s 13ms/step - loss: 0.0671 - accuracy: 0.9771\n",
            "Epoch 19/20\n",
            "149/149 [==============================] - 2s 13ms/step - loss: 0.0638 - accuracy: 0.9798\n",
            "Epoch 20/20\n",
            "149/149 [==============================] - 2s 13ms/step - loss: 0.0616 - accuracy: 0.9812\n",
            "75/75 [==============================] - 0s 6ms/step\n",
            "Epoch 1/20\n",
            "149/149 [==============================] - 2s 13ms/step - loss: 0.5971 - accuracy: 0.8620\n",
            "Epoch 2/20\n",
            "149/149 [==============================] - 2s 13ms/step - loss: 0.4132 - accuracy: 0.9435\n",
            "Epoch 3/20\n",
            "149/149 [==============================] - 2s 13ms/step - loss: 0.2911 - accuracy: 0.9485\n",
            "Epoch 4/20\n",
            "149/149 [==============================] - 2s 13ms/step - loss: 0.2193 - accuracy: 0.9546\n",
            "Epoch 5/20\n",
            "149/149 [==============================] - 2s 13ms/step - loss: 0.1782 - accuracy: 0.9599\n",
            "Epoch 6/20\n",
            "149/149 [==============================] - 2s 14ms/step - loss: 0.1537 - accuracy: 0.9640\n",
            "Epoch 7/20\n",
            "149/149 [==============================] - 2s 13ms/step - loss: 0.1366 - accuracy: 0.9650\n",
            "Epoch 8/20\n",
            "149/149 [==============================] - 2s 13ms/step - loss: 0.1244 - accuracy: 0.9674\n",
            "Epoch 9/20\n",
            "149/149 [==============================] - 2s 13ms/step - loss: 0.1145 - accuracy: 0.9687\n",
            "Epoch 10/20\n",
            "149/149 [==============================] - 2s 13ms/step - loss: 0.1059 - accuracy: 0.9684\n",
            "Epoch 11/20\n",
            "149/149 [==============================] - 2s 13ms/step - loss: 0.1003 - accuracy: 0.9697\n",
            "Epoch 12/20\n",
            "149/149 [==============================] - 2s 13ms/step - loss: 0.0941 - accuracy: 0.9707\n",
            "Epoch 13/20\n",
            "149/149 [==============================] - 2s 13ms/step - loss: 0.0886 - accuracy: 0.9721\n",
            "Epoch 14/20\n",
            "149/149 [==============================] - 2s 13ms/step - loss: 0.0841 - accuracy: 0.9734\n",
            "Epoch 15/20\n",
            "149/149 [==============================] - 2s 15ms/step - loss: 0.0808 - accuracy: 0.9737\n",
            "Epoch 16/20\n",
            "149/149 [==============================] - 2s 15ms/step - loss: 0.0768 - accuracy: 0.9764\n",
            "Epoch 17/20\n",
            "149/149 [==============================] - 2s 15ms/step - loss: 0.0728 - accuracy: 0.9781\n",
            "Epoch 18/20\n",
            "149/149 [==============================] - 2s 14ms/step - loss: 0.0701 - accuracy: 0.9781\n",
            "Epoch 19/20\n",
            "149/149 [==============================] - 2s 15ms/step - loss: 0.0672 - accuracy: 0.9801\n",
            "Epoch 20/20\n",
            "149/149 [==============================] - 2s 15ms/step - loss: 0.0658 - accuracy: 0.9815\n",
            "75/75 [==============================] - 1s 7ms/step\n",
            "Epoch 1/20\n",
            "149/149 [==============================] - 2s 14ms/step - loss: 0.5884 - accuracy: 0.8920\n",
            "Epoch 2/20\n",
            "149/149 [==============================] - 2s 14ms/step - loss: 0.4134 - accuracy: 0.9398\n",
            "Epoch 3/20\n",
            "149/149 [==============================] - 2s 14ms/step - loss: 0.2963 - accuracy: 0.9415\n",
            "Epoch 4/20\n",
            "149/149 [==============================] - 2s 14ms/step - loss: 0.2265 - accuracy: 0.9489\n",
            "Epoch 5/20\n",
            "149/149 [==============================] - 2s 13ms/step - loss: 0.1854 - accuracy: 0.9542\n",
            "Epoch 6/20\n",
            "149/149 [==============================] - 2s 13ms/step - loss: 0.1619 - accuracy: 0.9590\n",
            "Epoch 7/20\n",
            "149/149 [==============================] - 2s 13ms/step - loss: 0.1446 - accuracy: 0.9623\n",
            "Epoch 8/20\n",
            "149/149 [==============================] - 2s 14ms/step - loss: 0.1329 - accuracy: 0.9640\n",
            "Epoch 9/20\n",
            "149/149 [==============================] - 2s 14ms/step - loss: 0.1243 - accuracy: 0.9650\n",
            "Epoch 10/20\n",
            "149/149 [==============================] - 2s 14ms/step - loss: 0.1160 - accuracy: 0.9657\n",
            "Epoch 11/20\n",
            "149/149 [==============================] - 2s 14ms/step - loss: 0.1090 - accuracy: 0.9670\n",
            "Epoch 12/20\n",
            "149/149 [==============================] - 2s 14ms/step - loss: 0.1032 - accuracy: 0.9670\n",
            "Epoch 13/20\n",
            "149/149 [==============================] - 2s 14ms/step - loss: 0.0985 - accuracy: 0.9684\n",
            "Epoch 14/20\n",
            "149/149 [==============================] - 2s 14ms/step - loss: 0.0939 - accuracy: 0.9680\n",
            "Epoch 15/20\n",
            "149/149 [==============================] - 2s 14ms/step - loss: 0.0882 - accuracy: 0.9711\n",
            "Epoch 16/20\n",
            "149/149 [==============================] - 2s 14ms/step - loss: 0.0851 - accuracy: 0.9724\n",
            "Epoch 17/20\n",
            "149/149 [==============================] - 2s 14ms/step - loss: 0.0801 - accuracy: 0.9731\n",
            "Epoch 18/20\n",
            "149/149 [==============================] - 2s 14ms/step - loss: 0.0777 - accuracy: 0.9758\n",
            "Epoch 19/20\n",
            "149/149 [==============================] - 2s 13ms/step - loss: 0.0732 - accuracy: 0.9758\n",
            "Epoch 20/20\n",
            "149/149 [==============================] - 2s 14ms/step - loss: 0.0697 - accuracy: 0.9754\n",
            "75/75 [==============================] - 0s 6ms/step\n",
            "Epoch 1/20\n",
            "149/149 [==============================] - 9s 59ms/step - loss: 0.5214 - accuracy: 0.8559\n",
            "Epoch 2/20\n",
            "149/149 [==============================] - 8s 54ms/step - loss: 0.5160 - accuracy: 0.8644\n",
            "Epoch 3/20\n",
            "149/149 [==============================] - 8s 53ms/step - loss: 0.5396 - accuracy: 0.8644\n",
            "Epoch 4/20\n",
            "149/149 [==============================] - 8s 51ms/step - loss: 0.4863 - accuracy: 0.8644\n",
            "Epoch 5/20\n",
            "149/149 [==============================] - 9s 59ms/step - loss: 0.5057 - accuracy: 0.8644\n",
            "Epoch 6/20\n",
            "149/149 [==============================] - 7s 50ms/step - loss: 0.4847 - accuracy: 0.8644\n",
            "Epoch 7/20\n",
            "149/149 [==============================] - 7s 50ms/step - loss: 0.4806 - accuracy: 0.8644\n",
            "Epoch 8/20\n",
            "149/149 [==============================] - 8s 52ms/step - loss: 0.4904 - accuracy: 0.8644\n",
            "Epoch 9/20\n",
            "149/149 [==============================] - 8s 50ms/step - loss: 0.4920 - accuracy: 0.8644\n",
            "Epoch 10/20\n",
            "149/149 [==============================] - 7s 50ms/step - loss: 0.4699 - accuracy: 0.8644\n",
            "Epoch 11/20\n",
            "149/149 [==============================] - 8s 52ms/step - loss: 0.4701 - accuracy: 0.8644\n",
            "Epoch 12/20\n",
            "149/149 [==============================] - 8s 51ms/step - loss: 0.4815 - accuracy: 0.8644\n",
            "Epoch 13/20\n",
            "149/149 [==============================] - 8s 51ms/step - loss: 0.4955 - accuracy: 0.8644\n",
            "Epoch 00013: early stopping\n",
            "75/75 [==============================] - 1s 12ms/step\n",
            "Epoch 1/20\n",
            "149/149 [==============================] - 7s 50ms/step - loss: 0.4928 - accuracy: 0.8583\n",
            "Epoch 2/20\n",
            "149/149 [==============================] - 7s 49ms/step - loss: 0.4817 - accuracy: 0.8627\n",
            "Epoch 3/20\n",
            "149/149 [==============================] - 7s 50ms/step - loss: 0.4463 - accuracy: 0.8627\n",
            "Epoch 4/20\n",
            "149/149 [==============================] - 7s 50ms/step - loss: 0.5296 - accuracy: 0.8627\n",
            "Epoch 5/20\n",
            "149/149 [==============================] - 8s 50ms/step - loss: 0.5196 - accuracy: 0.8627\n",
            "Epoch 6/20\n",
            "149/149 [==============================] - 7s 50ms/step - loss: 0.4801 - accuracy: 0.8627\n",
            "Epoch 00006: early stopping\n",
            "75/75 [==============================] - 1s 13ms/step\n",
            "Epoch 1/20\n",
            "149/149 [==============================] - 8s 51ms/step - loss: 0.4630 - accuracy: 0.8671\n",
            "Epoch 2/20\n",
            "149/149 [==============================] - 8s 51ms/step - loss: 0.4938 - accuracy: 0.8731\n",
            "Epoch 3/20\n",
            "149/149 [==============================] - 8s 51ms/step - loss: 0.4806 - accuracy: 0.8731\n",
            "Epoch 4/20\n",
            "149/149 [==============================] - 8s 53ms/step - loss: 0.4410 - accuracy: 0.8731\n",
            "Epoch 5/20\n",
            "149/149 [==============================] - 8s 53ms/step - loss: 0.4605 - accuracy: 0.8731\n",
            "Epoch 6/20\n",
            "149/149 [==============================] - 8s 51ms/step - loss: 0.5087 - accuracy: 0.8731\n",
            "Epoch 7/20\n",
            "149/149 [==============================] - 8s 51ms/step - loss: 0.4670 - accuracy: 0.8731\n",
            "Epoch 00007: early stopping\n",
            "75/75 [==============================] - 1s 12ms/step\n",
            "Epoch 1/20\n",
            "149/149 [==============================] - 1s 5ms/step - loss: 0.5865 - accuracy: 0.9098\n",
            "Epoch 2/20\n",
            "149/149 [==============================] - 1s 5ms/step - loss: 0.4043 - accuracy: 0.9512\n",
            "Epoch 3/20\n",
            "149/149 [==============================] - 1s 5ms/step - loss: 0.2784 - accuracy: 0.9522\n",
            "Epoch 4/20\n",
            "149/149 [==============================] - 1s 5ms/step - loss: 0.2073 - accuracy: 0.9573\n",
            "Epoch 5/20\n",
            "149/149 [==============================] - 1s 5ms/step - loss: 0.1697 - accuracy: 0.9596\n",
            "Epoch 6/20\n",
            "149/149 [==============================] - 1s 5ms/step - loss: 0.1461 - accuracy: 0.9620\n",
            "Epoch 7/20\n",
            "149/149 [==============================] - 1s 5ms/step - loss: 0.1322 - accuracy: 0.9636\n",
            "Epoch 8/20\n",
            "149/149 [==============================] - 1s 5ms/step - loss: 0.1202 - accuracy: 0.9650\n",
            "Epoch 9/20\n",
            "149/149 [==============================] - 1s 5ms/step - loss: 0.1109 - accuracy: 0.9663\n",
            "Epoch 10/20\n",
            "149/149 [==============================] - 1s 5ms/step - loss: 0.1029 - accuracy: 0.9684\n",
            "Epoch 11/20\n",
            "149/149 [==============================] - 1s 5ms/step - loss: 0.0957 - accuracy: 0.9684\n",
            "Epoch 12/20\n",
            "149/149 [==============================] - 1s 5ms/step - loss: 0.0906 - accuracy: 0.9707\n",
            "Epoch 13/20\n",
            "149/149 [==============================] - 1s 5ms/step - loss: 0.0843 - accuracy: 0.9711\n",
            "Epoch 14/20\n",
            "149/149 [==============================] - 1s 5ms/step - loss: 0.0797 - accuracy: 0.9734\n",
            "Epoch 15/20\n",
            "149/149 [==============================] - 1s 5ms/step - loss: 0.0757 - accuracy: 0.9751\n",
            "Epoch 16/20\n",
            "149/149 [==============================] - 1s 5ms/step - loss: 0.0713 - accuracy: 0.9774\n",
            "Epoch 17/20\n",
            "149/149 [==============================] - 1s 5ms/step - loss: 0.0676 - accuracy: 0.9791\n",
            "Epoch 18/20\n",
            "149/149 [==============================] - 1s 5ms/step - loss: 0.0641 - accuracy: 0.9795\n",
            "Epoch 19/20\n",
            "149/149 [==============================] - 1s 5ms/step - loss: 0.0605 - accuracy: 0.9815\n",
            "Epoch 20/20\n",
            "149/149 [==============================] - 1s 5ms/step - loss: 0.0586 - accuracy: 0.9815\n",
            "75/75 [==============================] - 0s 2ms/step\n",
            "Epoch 1/20\n",
            "149/149 [==============================] - 1s 5ms/step - loss: 0.5991 - accuracy: 0.8667\n",
            "Epoch 2/20\n",
            "149/149 [==============================] - 1s 4ms/step - loss: 0.4190 - accuracy: 0.9583\n",
            "Epoch 3/20\n",
            "149/149 [==============================] - 1s 5ms/step - loss: 0.2890 - accuracy: 0.9579\n",
            "Epoch 4/20\n",
            "149/149 [==============================] - 1s 5ms/step - loss: 0.2119 - accuracy: 0.9613\n",
            "Epoch 5/20\n",
            "149/149 [==============================] - 1s 5ms/step - loss: 0.1688 - accuracy: 0.9647\n",
            "Epoch 6/20\n",
            "149/149 [==============================] - 1s 5ms/step - loss: 0.1424 - accuracy: 0.9674\n",
            "Epoch 7/20\n",
            "149/149 [==============================] - 1s 5ms/step - loss: 0.1284 - accuracy: 0.9677\n",
            "Epoch 8/20\n",
            "149/149 [==============================] - 1s 5ms/step - loss: 0.1161 - accuracy: 0.9690\n",
            "Epoch 9/20\n",
            "149/149 [==============================] - 1s 5ms/step - loss: 0.1070 - accuracy: 0.9704\n",
            "Epoch 10/20\n",
            "149/149 [==============================] - 1s 5ms/step - loss: 0.0996 - accuracy: 0.9714\n",
            "Epoch 11/20\n",
            "149/149 [==============================] - 1s 5ms/step - loss: 0.0922 - accuracy: 0.9727\n",
            "Epoch 12/20\n",
            "149/149 [==============================] - 1s 5ms/step - loss: 0.0881 - accuracy: 0.9741\n",
            "Epoch 13/20\n",
            "149/149 [==============================] - 1s 5ms/step - loss: 0.0823 - accuracy: 0.9751\n",
            "Epoch 14/20\n",
            "149/149 [==============================] - 1s 5ms/step - loss: 0.0792 - accuracy: 0.9754\n",
            "Epoch 15/20\n",
            "149/149 [==============================] - 1s 5ms/step - loss: 0.0753 - accuracy: 0.9778\n",
            "Epoch 16/20\n",
            "149/149 [==============================] - 1s 5ms/step - loss: 0.0720 - accuracy: 0.9791\n",
            "Epoch 17/20\n",
            "149/149 [==============================] - 1s 5ms/step - loss: 0.0693 - accuracy: 0.9798\n",
            "Epoch 18/20\n",
            "149/149 [==============================] - 1s 5ms/step - loss: 0.0655 - accuracy: 0.9805\n",
            "Epoch 19/20\n",
            "149/149 [==============================] - 1s 4ms/step - loss: 0.0634 - accuracy: 0.9812\n",
            "Epoch 20/20\n",
            "149/149 [==============================] - 1s 5ms/step - loss: 0.0604 - accuracy: 0.9828\n",
            "75/75 [==============================] - 0s 3ms/step\n",
            "Epoch 1/20\n",
            "149/149 [==============================] - 1s 5ms/step - loss: 0.5651 - accuracy: 0.9307\n",
            "Epoch 2/20\n",
            "149/149 [==============================] - 1s 5ms/step - loss: 0.3706 - accuracy: 0.9515\n",
            "Epoch 3/20\n",
            "149/149 [==============================] - 1s 5ms/step - loss: 0.2515 - accuracy: 0.9546\n",
            "Epoch 4/20\n",
            "149/149 [==============================] - 1s 6ms/step - loss: 0.1916 - accuracy: 0.9579\n",
            "Epoch 5/20\n",
            "149/149 [==============================] - 1s 6ms/step - loss: 0.1598 - accuracy: 0.9623\n",
            "Epoch 6/20\n",
            "149/149 [==============================] - 1s 6ms/step - loss: 0.1418 - accuracy: 0.9633\n",
            "Epoch 7/20\n",
            "149/149 [==============================] - 1s 5ms/step - loss: 0.1286 - accuracy: 0.9647\n",
            "Epoch 8/20\n",
            "149/149 [==============================] - 1s 6ms/step - loss: 0.1175 - accuracy: 0.9653\n",
            "Epoch 9/20\n",
            "149/149 [==============================] - 1s 5ms/step - loss: 0.1110 - accuracy: 0.9664\n",
            "Epoch 10/20\n",
            "149/149 [==============================] - 1s 5ms/step - loss: 0.1035 - accuracy: 0.9667\n",
            "Epoch 11/20\n",
            "149/149 [==============================] - 1s 5ms/step - loss: 0.0976 - accuracy: 0.9694\n",
            "Epoch 12/20\n",
            "149/149 [==============================] - 1s 6ms/step - loss: 0.0922 - accuracy: 0.9697\n",
            "Epoch 13/20\n",
            "149/149 [==============================] - 1s 5ms/step - loss: 0.0877 - accuracy: 0.9714\n",
            "Epoch 14/20\n",
            "149/149 [==============================] - 1s 6ms/step - loss: 0.0822 - accuracy: 0.9731\n",
            "Epoch 15/20\n",
            "149/149 [==============================] - 1s 6ms/step - loss: 0.0784 - accuracy: 0.9738\n",
            "Epoch 16/20\n",
            "149/149 [==============================] - 1s 6ms/step - loss: 0.0749 - accuracy: 0.9748\n",
            "Epoch 17/20\n",
            "149/149 [==============================] - 1s 6ms/step - loss: 0.0709 - accuracy: 0.9775\n",
            "Epoch 18/20\n",
            "149/149 [==============================] - 1s 6ms/step - loss: 0.0681 - accuracy: 0.9778\n",
            "Epoch 19/20\n",
            "149/149 [==============================] - 1s 6ms/step - loss: 0.0645 - accuracy: 0.9785\n",
            "Epoch 20/20\n",
            "149/149 [==============================] - 1s 6ms/step - loss: 0.0611 - accuracy: 0.9798\n",
            "75/75 [==============================] - 0s 3ms/step\n",
            "Epoch 1/20\n",
            "149/149 [==============================] - 2s 16ms/step - loss: 0.4999 - accuracy: 0.8394\n",
            "Epoch 2/20\n",
            "149/149 [==============================] - 2s 16ms/step - loss: 0.4894 - accuracy: 0.8644\n",
            "Epoch 3/20\n",
            "149/149 [==============================] - 2s 15ms/step - loss: 0.5061 - accuracy: 0.8644\n",
            "Epoch 4/20\n",
            "149/149 [==============================] - 2s 16ms/step - loss: 0.5120 - accuracy: 0.8644\n",
            "Epoch 5/20\n",
            "149/149 [==============================] - 2s 16ms/step - loss: 0.4910 - accuracy: 0.8644\n",
            "Epoch 00005: early stopping\n",
            "75/75 [==============================] - 0s 4ms/step\n",
            "Epoch 1/20\n",
            "149/149 [==============================] - 2s 16ms/step - loss: 0.5121 - accuracy: 0.8570\n",
            "Epoch 2/20\n",
            "149/149 [==============================] - 2s 16ms/step - loss: 0.4968 - accuracy: 0.8627\n",
            "Epoch 3/20\n",
            "149/149 [==============================] - 2s 16ms/step - loss: 0.4677 - accuracy: 0.8627\n",
            "Epoch 4/20\n",
            "149/149 [==============================] - 2s 16ms/step - loss: 0.4724 - accuracy: 0.8627\n",
            "Epoch 5/20\n",
            "149/149 [==============================] - 2s 16ms/step - loss: 0.4831 - accuracy: 0.8627\n",
            "Epoch 6/20\n",
            "149/149 [==============================] - 2s 16ms/step - loss: 0.4994 - accuracy: 0.8627\n",
            "Epoch 00006: early stopping\n",
            "75/75 [==============================] - 0s 4ms/step\n",
            "Epoch 1/20\n",
            "149/149 [==============================] - 2s 15ms/step - loss: 0.4822 - accuracy: 0.8671\n",
            "Epoch 2/20\n",
            "149/149 [==============================] - 2s 15ms/step - loss: 0.4627 - accuracy: 0.8731\n",
            "Epoch 3/20\n",
            "149/149 [==============================] - 2s 15ms/step - loss: 0.5645 - accuracy: 0.8731\n",
            "Epoch 4/20\n",
            "149/149 [==============================] - 2s 15ms/step - loss: 0.4740 - accuracy: 0.8731\n",
            "Epoch 5/20\n",
            "149/149 [==============================] - 2s 15ms/step - loss: 0.4879 - accuracy: 0.8731\n",
            "Epoch 00005: early stopping\n",
            "75/75 [==============================] - 0s 4ms/step\n",
            "Epoch 1/20\n",
            "149/149 [==============================] - 36s 244ms/step - loss: 0.4035 - accuracy: 0.8623\n",
            "Epoch 2/20\n",
            "149/149 [==============================] - 36s 240ms/step - loss: 0.3891 - accuracy: 0.8644\n",
            "Epoch 3/20\n",
            "149/149 [==============================] - 36s 240ms/step - loss: 0.3773 - accuracy: 0.8644\n",
            "Epoch 4/20\n",
            "149/149 [==============================] - 36s 244ms/step - loss: 0.3664 - accuracy: 0.8647\n",
            "Epoch 5/20\n",
            "149/149 [==============================] - 36s 239ms/step - loss: 0.3426 - accuracy: 0.8684\n",
            "Epoch 6/20\n",
            "149/149 [==============================] - 35s 238ms/step - loss: 0.3295 - accuracy: 0.8751\n",
            "Epoch 7/20\n",
            "149/149 [==============================] - 36s 241ms/step - loss: 0.2964 - accuracy: 0.8913\n",
            "Epoch 8/20\n",
            "149/149 [==============================] - 36s 239ms/step - loss: 0.2793 - accuracy: 0.9024\n",
            "Epoch 9/20\n",
            "149/149 [==============================] - 36s 243ms/step - loss: 0.2583 - accuracy: 0.9138\n",
            "Epoch 10/20\n",
            "149/149 [==============================] - 36s 240ms/step - loss: 0.2483 - accuracy: 0.9165\n",
            "Epoch 11/20\n",
            "149/149 [==============================] - 36s 242ms/step - loss: 0.2305 - accuracy: 0.9226\n",
            "Epoch 12/20\n",
            "149/149 [==============================] - 36s 241ms/step - loss: 0.2163 - accuracy: 0.9297\n",
            "Epoch 13/20\n",
            "149/149 [==============================] - 36s 240ms/step - loss: 0.2080 - accuracy: 0.9347\n",
            "Epoch 14/20\n",
            "149/149 [==============================] - 36s 242ms/step - loss: 0.1972 - accuracy: 0.9371\n",
            "Epoch 15/20\n",
            "149/149 [==============================] - 36s 239ms/step - loss: 0.1955 - accuracy: 0.9391\n",
            "Epoch 16/20\n",
            "149/149 [==============================] - 36s 240ms/step - loss: 0.1942 - accuracy: 0.9421\n",
            "Epoch 17/20\n",
            "149/149 [==============================] - 36s 242ms/step - loss: 0.1893 - accuracy: 0.9374\n",
            "Epoch 18/20\n",
            "149/149 [==============================] - 37s 246ms/step - loss: 0.1771 - accuracy: 0.9478\n",
            "Epoch 19/20\n",
            "149/149 [==============================] - 36s 241ms/step - loss: 0.1736 - accuracy: 0.9475\n",
            "Epoch 20/20\n",
            "149/149 [==============================] - 36s 239ms/step - loss: 0.1722 - accuracy: 0.9505\n",
            "75/75 [==============================] - 7s 89ms/step\n",
            "Epoch 1/20\n",
            "149/149 [==============================] - 35s 234ms/step - loss: 0.4039 - accuracy: 0.8623\n",
            "Epoch 2/20\n",
            "149/149 [==============================] - 35s 238ms/step - loss: 0.3931 - accuracy: 0.8627\n",
            "Epoch 3/20\n",
            "149/149 [==============================] - 35s 235ms/step - loss: 0.3840 - accuracy: 0.8627\n",
            "Epoch 4/20\n",
            "149/149 [==============================] - 36s 239ms/step - loss: 0.3690 - accuracy: 0.8627\n",
            "Epoch 5/20\n",
            "149/149 [==============================] - 35s 238ms/step - loss: 0.3522 - accuracy: 0.8664\n",
            "Epoch 6/20\n",
            "149/149 [==============================] - 35s 236ms/step - loss: 0.3281 - accuracy: 0.8738\n",
            "Epoch 7/20\n",
            "149/149 [==============================] - 35s 238ms/step - loss: 0.3093 - accuracy: 0.8859\n",
            "Epoch 8/20\n",
            "149/149 [==============================] - 35s 235ms/step - loss: 0.2825 - accuracy: 0.9014\n",
            "Epoch 9/20\n",
            "149/149 [==============================] - 36s 241ms/step - loss: 0.2583 - accuracy: 0.9108\n",
            "Epoch 10/20\n",
            "149/149 [==============================] - 36s 240ms/step - loss: 0.2445 - accuracy: 0.9185\n",
            "Epoch 11/20\n",
            "149/149 [==============================] - 35s 238ms/step - loss: 0.2276 - accuracy: 0.9266\n",
            "Epoch 12/20\n",
            "149/149 [==============================] - 36s 240ms/step - loss: 0.2158 - accuracy: 0.9310\n",
            "Epoch 13/20\n",
            "149/149 [==============================] - 35s 236ms/step - loss: 0.2019 - accuracy: 0.9354\n",
            "Epoch 14/20\n",
            "149/149 [==============================] - 37s 246ms/step - loss: 0.1980 - accuracy: 0.9374\n",
            "Epoch 15/20\n",
            "149/149 [==============================] - 35s 237ms/step - loss: 0.1933 - accuracy: 0.9394\n",
            "Epoch 16/20\n",
            "149/149 [==============================] - 36s 241ms/step - loss: 0.1886 - accuracy: 0.9445\n",
            "Epoch 17/20\n",
            "149/149 [==============================] - 36s 243ms/step - loss: 0.1790 - accuracy: 0.9458\n",
            "Epoch 18/20\n",
            "149/149 [==============================] - 36s 239ms/step - loss: 0.1737 - accuracy: 0.9482\n",
            "Epoch 19/20\n",
            "149/149 [==============================] - 36s 239ms/step - loss: 0.1664 - accuracy: 0.9509\n",
            "Epoch 20/20\n",
            "149/149 [==============================] - 36s 242ms/step - loss: 0.1759 - accuracy: 0.9468\n",
            "75/75 [==============================] - 7s 89ms/step\n",
            "Epoch 1/20\n",
            "149/149 [==============================] - 36s 240ms/step - loss: 0.3886 - accuracy: 0.8728\n",
            "Epoch 2/20\n",
            "149/149 [==============================] - 37s 245ms/step - loss: 0.3756 - accuracy: 0.8731\n",
            "Epoch 3/20\n",
            "149/149 [==============================] - 36s 242ms/step - loss: 0.3611 - accuracy: 0.8731\n",
            "Epoch 4/20\n",
            "149/149 [==============================] - 36s 241ms/step - loss: 0.3534 - accuracy: 0.8731\n",
            "Epoch 5/20\n",
            "149/149 [==============================] - 36s 244ms/step - loss: 0.3442 - accuracy: 0.8731\n",
            "Epoch 6/20\n",
            "149/149 [==============================] - 36s 242ms/step - loss: 0.3217 - accuracy: 0.8795\n",
            "Epoch 7/20\n",
            "149/149 [==============================] - 36s 244ms/step - loss: 0.3028 - accuracy: 0.8890\n",
            "Epoch 8/20\n",
            "149/149 [==============================] - 36s 240ms/step - loss: 0.2832 - accuracy: 0.8987\n",
            "Epoch 9/20\n",
            "149/149 [==============================] - 36s 238ms/step - loss: 0.2680 - accuracy: 0.9071\n",
            "Epoch 10/20\n",
            "149/149 [==============================] - 36s 239ms/step - loss: 0.2563 - accuracy: 0.9139\n",
            "Epoch 11/20\n",
            "149/149 [==============================] - 36s 240ms/step - loss: 0.2341 - accuracy: 0.9223\n",
            "Epoch 12/20\n",
            "149/149 [==============================] - 35s 237ms/step - loss: 0.2198 - accuracy: 0.9337\n",
            "Epoch 13/20\n",
            "149/149 [==============================] - 36s 240ms/step - loss: 0.2195 - accuracy: 0.9320\n",
            "Epoch 14/20\n",
            "149/149 [==============================] - 36s 240ms/step - loss: 0.1976 - accuracy: 0.9394\n",
            "Epoch 15/20\n",
            "149/149 [==============================] - 36s 243ms/step - loss: 0.1999 - accuracy: 0.9381\n",
            "Epoch 16/20\n",
            "149/149 [==============================] - 35s 238ms/step - loss: 0.1877 - accuracy: 0.9398\n",
            "Epoch 17/20\n",
            "149/149 [==============================] - 36s 240ms/step - loss: 0.1852 - accuracy: 0.9438\n",
            "Epoch 18/20\n",
            "149/149 [==============================] - 36s 239ms/step - loss: 0.1785 - accuracy: 0.9445\n",
            "Epoch 19/20\n",
            "149/149 [==============================] - 36s 238ms/step - loss: 0.1843 - accuracy: 0.9465\n",
            "Epoch 20/20\n",
            "149/149 [==============================] - 36s 240ms/step - loss: 0.1748 - accuracy: 0.9468\n",
            "75/75 [==============================] - 7s 88ms/step\n"
          ],
          "name": "stdout"
        },
        {
          "output_type": "stream",
          "text": [
            "[Parallel(n_jobs=1)]: Done  30 out of  30 | elapsed: 117.2min finished\n"
          ],
          "name": "stderr"
        },
        {
          "output_type": "stream",
          "text": [
            "Epoch 1/20\n",
            "223/223 [==============================] - 4s 18ms/step - loss: 0.5243 - accuracy: 0.9096\n",
            "Epoch 2/20\n",
            "223/223 [==============================] - 4s 18ms/step - loss: 0.2649 - accuracy: 0.9408\n",
            "Epoch 3/20\n",
            "223/223 [==============================] - 4s 16ms/step - loss: 0.1681 - accuracy: 0.9567\n",
            "Epoch 4/20\n",
            "223/223 [==============================] - 4s 16ms/step - loss: 0.1328 - accuracy: 0.9646\n",
            "Epoch 5/20\n",
            "223/223 [==============================] - 4s 17ms/step - loss: 0.1160 - accuracy: 0.9657\n",
            "Epoch 6/20\n",
            "223/223 [==============================] - 4s 16ms/step - loss: 0.1010 - accuracy: 0.9699\n",
            "Epoch 7/20\n",
            "223/223 [==============================] - 4s 16ms/step - loss: 0.0899 - accuracy: 0.9720\n",
            "Epoch 8/20\n",
            "223/223 [==============================] - 4s 16ms/step - loss: 0.0794 - accuracy: 0.9749\n",
            "Epoch 9/20\n",
            "223/223 [==============================] - 4s 16ms/step - loss: 0.0734 - accuracy: 0.9767\n",
            "Epoch 10/20\n",
            "223/223 [==============================] - 4s 17ms/step - loss: 0.0654 - accuracy: 0.9812\n",
            "Epoch 11/20\n",
            "223/223 [==============================] - 4s 18ms/step - loss: 0.0602 - accuracy: 0.9825\n",
            "Epoch 12/20\n",
            "223/223 [==============================] - 4s 17ms/step - loss: 0.0547 - accuracy: 0.9845\n",
            "Epoch 13/20\n",
            "223/223 [==============================] - 4s 18ms/step - loss: 0.0496 - accuracy: 0.9854\n",
            "Epoch 14/20\n",
            "223/223 [==============================] - 4s 18ms/step - loss: 0.0441 - accuracy: 0.9872\n",
            "Epoch 15/20\n",
            "223/223 [==============================] - 4s 17ms/step - loss: 0.0412 - accuracy: 0.9883\n",
            "Epoch 16/20\n",
            "223/223 [==============================] - 4s 17ms/step - loss: 0.0386 - accuracy: 0.9890\n",
            "Epoch 17/20\n",
            "223/223 [==============================] - 4s 16ms/step - loss: 0.0340 - accuracy: 0.9912\n",
            "Epoch 18/20\n",
            "223/223 [==============================] - 4s 16ms/step - loss: 0.0310 - accuracy: 0.9906\n",
            "Epoch 19/20\n",
            "223/223 [==============================] - 4s 16ms/step - loss: 0.0276 - accuracy: 0.9930\n",
            "Epoch 20/20\n",
            "223/223 [==============================] - 4s 17ms/step - loss: 0.0258 - accuracy: 0.9928\n"
          ],
          "name": "stdout"
        }
      ]
    },
    {
      "cell_type": "code",
      "metadata": {
        "id": "QAafbzGyaI7w",
        "colab": {
          "base_uri": "https://localhost:8080/",
          "height": 544
        },
        "outputId": "d553074e-3e70-4c5a-dfe3-f0bf2a11d820"
      },
      "source": [
        "print(best_model)\n",
        "best_model['red_neuronal'].model.summary()"
      ],
      "execution_count": null,
      "outputs": [
        {
          "output_type": "stream",
          "text": [
            "Pipeline(memory=None,\n",
            "         steps=[('transformacion',\n",
            "                 CountVectorizer(analyzer='word', binary=False,\n",
            "                                 decode_error='strict',\n",
            "                                 dtype=<class 'numpy.int64'>, encoding='utf-8',\n",
            "                                 input='content', lowercase=True, max_df=1.0,\n",
            "                                 max_features=None, min_df=1,\n",
            "                                 ngram_range=(1, 1), preprocessor=None,\n",
            "                                 stop_words=None, strip_accents=None,\n",
            "                                 token_pattern='(?u)\\\\b\\\\w\\\\w+\\\\b',\n",
            "                                 tokenizer=None, vocabulary=None)),\n",
            "                ('matriz', <__main__.toArray object at 0x7fd7d3c6a4e0>),\n",
            "                ('red_neuronal',\n",
            "                 <keras.wrappers.scikit_learn.KerasClassifier object at 0x7fd7d3c6a908>)],\n",
            "         verbose=False)\n",
            "Model: \"Mi_Red\"\n",
            "_________________________________________________________________\n",
            "Layer (type)                 Output Shape              Param #   \n",
            "=================================================================\n",
            "Capa_Entrada (Dense)         multiple                  4583424   \n",
            "_________________________________________________________________\n",
            "Capa_Oculta_1 (Dense)        multiple                  51300     \n",
            "_________________________________________________________________\n",
            "Dropout_0.2 (Dropout)        multiple                  0         \n",
            "_________________________________________________________________\n",
            "Capa_Salida (Dense)          multiple                  202       \n",
            "=================================================================\n",
            "Total params: 4,634,926\n",
            "Trainable params: 4,634,926\n",
            "Non-trainable params: 0\n",
            "_________________________________________________________________\n"
          ],
          "name": "stdout"
        }
      ]
    },
    {
      "cell_type": "markdown",
      "metadata": {
        "id": "hnL98Vxgw9iH"
      },
      "source": [
        "### **5. Predicción**"
      ]
    },
    {
      "cell_type": "markdown",
      "metadata": {
        "id": "fvnS8yJia9mQ"
      },
      "source": [
        "Comparemos los dos modelos, el que construimos con los valores dados, y el que encontramos a través de la entonación de hiperparámetros."
      ]
    },
    {
      "cell_type": "code",
      "metadata": {
        "id": "VVSgjosEwPQC",
        "colab": {
          "base_uri": "https://localhost:8080/",
          "height": 68
        },
        "outputId": "47de4000-d1b1-4405-fed5-e47185076860"
      },
      "source": [
        "score = model.evaluate(X_test, y_test, verbose=1)\n",
        "print('Test loss: {:4f}\\nTest Accuracy: {:4f}'.format(score[0], score[1]))"
      ],
      "execution_count": null,
      "outputs": [
        {
          "output_type": "stream",
          "text": [
            "35/35 [==============================] - 0s 11ms/step - loss: 0.4170 - accuracy: 0.8628\n",
            "Test loss: 0.417023\n",
            "Test Accuracy: 0.862780\n"
          ],
          "name": "stdout"
        }
      ]
    },
    {
      "cell_type": "code",
      "metadata": {
        "id": "jk5XMGvna8r2",
        "colab": {
          "base_uri": "https://localhost:8080/",
          "height": 153
        },
        "outputId": "332a8a2e-4fe8-4b4a-9aef-f8d5b6deb873"
      },
      "source": [
        "print(model.predict(X_test))\n",
        "y_pred = model.predict(X_test)\n",
        "y_pred = y_pred.argmax(axis=-1)\n",
        "y_pred"
      ],
      "execution_count": null,
      "outputs": [
        {
          "output_type": "stream",
          "text": [
            "[[0.7786636  0.2213364 ]\n",
            " [0.77965355 0.22034648]\n",
            " [0.77917796 0.22082204]\n",
            " ...\n",
            " [0.777393   0.222607  ]\n",
            " [0.78088903 0.21911098]\n",
            " [0.77866    0.22133994]]\n"
          ],
          "name": "stdout"
        },
        {
          "output_type": "execute_result",
          "data": {
            "text/plain": [
              "array([0, 0, 0, ..., 0, 0, 0])"
            ]
          },
          "metadata": {
            "tags": []
          },
          "execution_count": 24
        }
      ]
    },
    {
      "cell_type": "code",
      "metadata": {
        "id": "gONfgkQ_gPtg",
        "colab": {
          "base_uri": "https://localhost:8080/",
          "height": 85
        },
        "outputId": "2224bea3-053d-46c3-b846-b58063ef41e3"
      },
      "source": [
        "print(best_model.predict(X_test))\n",
        "y_pred_text = best_model.predict(X_test)\n",
        "y_pred_text"
      ],
      "execution_count": null,
      "outputs": [
        {
          "output_type": "stream",
          "text": [
            "56/56 [==============================] - 0s 7ms/step\n",
            "[0 0 0 ... 0 0 0]\n",
            "56/56 [==============================] - 0s 7ms/step\n"
          ],
          "name": "stdout"
        },
        {
          "output_type": "execute_result",
          "data": {
            "text/plain": [
              "array([0, 0, 0, ..., 0, 0, 0])"
            ]
          },
          "metadata": {
            "tags": []
          },
          "execution_count": 25
        }
      ]
    },
    {
      "cell_type": "markdown",
      "metadata": {
        "id": "9TO2b7qcxMJm"
      },
      "source": [
        "### **6. Validación**"
      ]
    },
    {
      "cell_type": "code",
      "metadata": {
        "id": "McYnKxeBbgvW",
        "colab": {
          "base_uri": "https://localhost:8080/",
          "height": 411
        },
        "outputId": "2284985d-2a5a-4320-9a89-52049eadf20c"
      },
      "source": [
        "Y_test = y_test.argmax(axis=-1)\n",
        "print('Reporte para el modelo construido')\n",
        "print(classification_report(Y_test, y_pred, target_names=y.columns))\n",
        "print('Reporte para el modelo entonado')\n",
        "print(classification_report(Y_test, y_pred_text, target_names=y.columns))"
      ],
      "execution_count": null,
      "outputs": [
        {
          "output_type": "stream",
          "text": [
            "Reporte para el modelo construido\n",
            "              precision    recall  f1-score   support\n",
            "\n",
            "         ham       0.86      1.00      0.93       962\n",
            "        spam       0.00      0.00      0.00       153\n",
            "\n",
            "    accuracy                           0.86      1115\n",
            "   macro avg       0.43      0.50      0.46      1115\n",
            "weighted avg       0.74      0.86      0.80      1115\n",
            "\n",
            "Reporte para el modelo entonado\n",
            "              precision    recall  f1-score   support\n",
            "\n",
            "         ham       0.99      1.00      1.00       962\n",
            "        spam       1.00      0.95      0.97       153\n",
            "\n",
            "    accuracy                           0.99      1115\n",
            "   macro avg       1.00      0.97      0.98      1115\n",
            "weighted avg       0.99      0.99      0.99      1115\n",
            "\n"
          ],
          "name": "stdout"
        },
        {
          "output_type": "stream",
          "text": [
            "/usr/local/lib/python3.6/dist-packages/sklearn/metrics/_classification.py:1272: UndefinedMetricWarning: Precision and F-score are ill-defined and being set to 0.0 in labels with no predicted samples. Use `zero_division` parameter to control this behavior.\n",
            "  _warn_prf(average, modifier, msg_start, len(result))\n"
          ],
          "name": "stderr"
        }
      ]
    },
    {
      "cell_type": "code",
      "metadata": {
        "id": "l_WnJ4m4bibI",
        "colab": {
          "base_uri": "https://localhost:8080/",
          "height": 519
        },
        "outputId": "64a82b02-c23c-4197-f159-4e202042d411"
      },
      "source": [
        "import seaborn as sns; sns.set()\n",
        "\n",
        "plt.figure(figsize=(8,8))\n",
        "mat = confusion_matrix(Y_test, y_pred_text)\n",
        "sns.heatmap(mat.T, square=True, annot=True, cmap='Blues',fmt='d', cbar=False,\n",
        "            xticklabels=y.columns,\n",
        "            yticklabels=y.columns)\n",
        "plt.xlabel('true label')\n",
        "plt.ylabel('predicted label')"
      ],
      "execution_count": null,
      "outputs": [
        {
          "output_type": "execute_result",
          "data": {
            "text/plain": [
              "Text(54.260000000000005, 0.5, 'predicted label')"
            ]
          },
          "metadata": {
            "tags": []
          },
          "execution_count": 27
        },
        {
          "output_type": "display_data",
          "data": {
            "image/png": "[encoded data removed]",
            "text/plain": [
              "<Figure size 576x576 with 1 Axes>"
            ]
          },
          "metadata": {
            "tags": []
          }
        }
      ]
    },
    {
      "cell_type": "code",
      "metadata": {
        "id": "x1ZwZBEpEKSA",
        "colab": {
          "base_uri": "https://localhost:8080/",
          "height": 301
        },
        "outputId": "1d5b8d23-4f5f-4cd9-f030-51269cb3d311"
      },
      "source": [
        "plt.plot(history.history['loss'], label='Training loss')\n",
        "plt.title('Training and validation loss')\n",
        "plt.xlabel('Epochs')\n",
        "plt.ylabel('Loss')\n",
        "plt.legend()\n",
        "plt.show()"
      ],
      "execution_count": null,
      "outputs": [
        {
          "output_type": "display_data",
          "data": {
            "image/png": "[encoded data removed]",
            "text/plain": [
              "<Figure size 432x288 with 1 Axes>"
            ]
          },
          "metadata": {
            "tags": []
          }
        }
      ]
    },
    {
      "cell_type": "code",
      "metadata": {
        "id": "7EPjik19m94K",
        "colab": {
          "base_uri": "https://localhost:8080/",
          "height": 301
        },
        "outputId": "30eabdd3-e32e-4143-bc83-9c9d17c54b09"
      },
      "source": [
        "plt.plot(history.history['accuracy'], label='Training accuracy')\n",
        "plt.title('Training and validation accuracy')\n",
        "plt.xlabel('Epochs')\n",
        "plt.ylabel('Accuracy')\n",
        "plt.legend()\n",
        "plt.show()"
      ],
      "execution_count": null,
      "outputs": [
        {
          "output_type": "display_data",
          "data": {
            "image/png": "[encoded data removed]",
            "text/plain": [
              "<Figure size 432x288 with 1 Axes>"
            ]
          },
          "metadata": {
            "tags": []
          }
        }
      ]
    }
  ]
}