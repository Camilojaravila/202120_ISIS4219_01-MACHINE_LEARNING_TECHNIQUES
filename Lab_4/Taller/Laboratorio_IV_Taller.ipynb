{
  "nbformat": 4,
  "nbformat_minor": 0,
  "metadata": {
    "colab": {
      "name": "Laboratorio IV - Taller.ipynb",
      "provenance": [],
      "collapsed_sections": [],
      "include_colab_link": true
    },
    "kernelspec": {
      "display_name": "Python 3",
      "name": "python3"
    }
  },
  "cells": [
    {
      "cell_type": "markdown",
      "metadata": {
        "id": "view-in-github",
        "colab_type": "text"
      },
      "source": [
        "<a href=\"https://colab.research.google.com/github/Camilojaravila/202120_ISIS4219_01-MACHINE_LEARNING_TECHNIQUES/blob/main/Lab_4/Taller/Laboratorio_IV_Taller.ipynb\" target=\"_parent\"><img src=\"https://colab.research.google.com/assets/colab-badge.svg\" alt=\"Open In Colab\"/></a>"
      ]
    },
    {
      "cell_type": "markdown",
      "metadata": {
        "id": "Q7ffxRZZbhIP"
      },
      "source": [
        "\n",
        "<img src=\"https://bloqueneon.uniandes.edu.co/content/enforced/52233-202120_ISIS4219_01/Laboratorios.png?_&d2lSessionVal=guLBE9l4cI9Tip6PM5JSzKgp6&_&d2lSessionVal=iDtWjzbHb92iC3sVmHUqajJ2k&_&d2lSessionVal=g2xptlvZ5GrV3W5yGlhIgeBnN\" ><br>\n",
        "# Machine Learning Techniques - ISIS4219\n",
        "\n",
        "Segundo Semestre - 2021\n",
        "\n",
        "\n"
      ]
    },
    {
      "cell_type": "markdown",
      "metadata": {
        "id": "j79las3xZgA1"
      },
      "source": [
        "## Integrantes\n",
        "\n",
        "*   Integrante 1.\n",
        "*   Integrante 2.\n",
        "*   Integrante 3.\n",
        "\n"
      ]
    },
    {
      "cell_type": "markdown",
      "metadata": {
        "id": "XDd5ll_5EjOv"
      },
      "source": [
        "## **Problema 1**\n",
        "\n",
        "Utilice el conjunto de datos Fashion-MNIST para construir un clasificador de imágenes de productos. Para la construcción del modelo utilice los tres esquemas que se describen a continuación y compare los resultados:\n",
        "<ol type=\"a\">\n",
        "  <li>Entrenamiento de un perceptrón multicapa.</li>\n",
        "  <li>Entrenamiento de un encoder para realizar una reducción de la dimensionalidad. Sobre el nuevo conjunto de características construya el modelo de clasificación con un perceptrón multicapa.</li>\n",
        "  <li>Entrenamiento de un denoising autoendoder para preentrenar una red profunda. Reuse las primeras capas de este autoencoder para construir un perceptron multicapa (con solo el 10% de los datos).</li>\n",
        "</ol>\n",
        "\n",
        "Para los puntos b) y c) compruebe, y muestre con ejemplos, que las imágenes están bien reconstruidas."
      ]
    },
    {
      "cell_type": "markdown",
      "metadata": {
        "id": "lAZL78yfcqCn"
      },
      "source": [
        "## **Problema 2**\n",
        "\n",
        "Para los bancos es sumamente importante reconocer transacciones fraudulentas con el objetivo de que los clientes no paguen por cosas que no compraron. Con respecto a lo anterior, se recogieron datos de más de 200 mil transacciones con un porcentaje de 0.172% de transacciones fraudulentas. Dada la baja cantidad de fraudes, se le pidió a ud que creara un modelo de inteligencia artificial para poder detectar este tipo de anomalías.\n",
        "\n",
        "**Fuente de Datos**: https://www.kaggle.com/mlg-ulb/creditcardfraud\n"
      ]
    },
    {
      "cell_type": "code",
      "metadata": {
        "id": "qM1VU1FiEfJt"
      },
      "source": [
        ""
      ],
      "execution_count": null,
      "outputs": []
    }
  ]
}