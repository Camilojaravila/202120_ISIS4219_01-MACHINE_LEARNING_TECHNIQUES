{
  "nbformat": 4,
  "nbformat_minor": 0,
  "metadata": {
    "colab": {
      "name": "Laboratorio V - Taller.ipynb",
      "provenance": [],
      "collapsed_sections": [],
      "include_colab_link": true
    },
    "kernelspec": {
      "name": "python3",
      "display_name": "Python 3"
    },
    "language_info": {
      "name": "python"
    }
  },
  "cells": [
    {
      "cell_type": "markdown",
      "metadata": {
        "id": "view-in-github",
        "colab_type": "text"
      },
      "source": [
        "<a href=\"https://colab.research.google.com/github/Camilojaravila/202120_ISIS4219_01-MACHINE_LEARNING_TECHNIQUES/blob/main/Lab_5/Taller/Laboratorio_V_Taller.ipynb\" target=\"_parent\"><img src=\"https://colab.research.google.com/assets/colab-badge.svg\" alt=\"Open In Colab\"/></a>"
      ]
    },
    {
      "cell_type": "markdown",
      "metadata": {
        "id": "Q7ffxRZZbhIP"
      },
      "source": [
        "\n",
        "<img src=\"https://bloqueneon.uniandes.edu.co/content/enforced/52233-202120_ISIS4219_01/Laboratorios.png?_&d2lSessionVal=guLBE9l4cI9Tip6PM5JSzKgp6&_&d2lSessionVal=iDtWjzbHb92iC3sVmHUqajJ2k&_&d2lSessionVal=g2xptlvZ5GrV3W5yGlhIgeBnN\" ><br>\n",
        "# Machine Learning Techniques - ISIS4219\n",
        "\n",
        "Segundo Semestre - 2021\n",
        "\n",
        "\n"
      ]
    },
    {
      "cell_type": "markdown",
      "metadata": {
        "id": "j79las3xZgA1"
      },
      "source": [
        "## Integrantes\n",
        "\n",
        "*   Integrante 1.\n",
        "*   Integrante 2.\n",
        "*   Integrante 3.\n",
        "\n"
      ]
    },
    {
      "cell_type": "markdown",
      "metadata": {
        "id": "XDd5ll_5EjOv"
      },
      "source": [
        "## **Problema 1**\n",
        "\n",
        "- En la Universidad de Caltech, se creó un dataset de aves cuyos datos se encuentran en formato TFRecord y almacenan la etiqueta de la especie del ave junto con los datos de detección de la misma. El formato de detección del ave es la coordenada en X e Y de la esquina superior izquierda, el ancho y el largo del cuadro. Su deber es clasificar las 200 especies haciendo uso de redes neuronales convolucionales. Además, como punto extra, ud deberá clasificar y detectar al mismo tiempo a través de una red bimodal o de salida doble. Los datos se ven de la siguiente forma:\n",
        "\n",
        "![image](https://docs.google.com/uc?export=download&id=1Qg9UTiKOEapYRyBt5nRjikZjs-RuNl_k)\n",
        "\n",
        "Pueden hacer uso del siguiente [recurso](https://colab.research.google.com/github/jpcano1/MINE_4210_Analisis_con_Deep_Learning/blob/master/extras/practica_tfrecord.ipynb) para guiarse.\n",
        "\n",
        "- [Data de entrenamiento](https://drive.google.com/file/d/1shoNNn7PuTB-Hv46RV1Hv8E4W4umDWII/view?usp=sharing)\n",
        "- [Data de Validación](https://drive.google.com/file/d/16MlEZxvNvuoek7IIDvs-JHxaKLE3OiZb/view?usp=sharing)\n",
        "- [Data de Testing](https://drive.google.com/file/d/1E0A0Ve4vBEyOZAw9f0f5f__uAgyvQvsa/view?usp=sharing)"
      ]
    },
    {
      "cell_type": "code",
      "metadata": {
        "id": "V0R3Qlf1zOu3"
      },
      "source": [
        ""
      ],
      "execution_count": null,
      "outputs": []
    }
  ]
}