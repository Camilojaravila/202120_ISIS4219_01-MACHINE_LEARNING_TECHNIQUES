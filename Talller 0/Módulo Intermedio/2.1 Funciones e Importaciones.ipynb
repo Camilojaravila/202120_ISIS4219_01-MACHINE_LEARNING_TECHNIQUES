{
  "cells": [
    {
      "cell_type": "markdown",
      "metadata": {
        "id": "view-in-github",
        "colab_type": "text"
      },
      "source": [
        "<a href=\"https://colab.research.google.com/github/Camilojaravila/202120_ISIS4219_01-MACHINE_LEARNING_TECHNIQUES/blob/main/Talller%200/M%C3%B3dulo%20Intermedio/2.1%20Funciones%20e%20Importaciones.ipynb\" target=\"_parent\"><img src=\"https://colab.research.google.com/assets/colab-badge.svg\" alt=\"Open In Colab\"/></a>"
      ]
    },
    {
      "cell_type": "markdown",
      "source": [
        "![banner_AML.jpg](data:image/jpeg;base64,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)"
      ],
      "metadata": {
        "id": "yF3pUagPpBXi"
      }
    },
    {
      "cell_type": "markdown",
      "metadata": {
        "id": "DidDekHj23BR"
      },
      "source": [
        "# Bienvenidos al Taller de Python Intermedio para Análisis con Machine Learning\n",
        "**Autor:** [Juan Camilo Jaramillo Ávila](mailto:jc.jaramillo10@uniandes.edu.co)"
      ]
    },
    {
      "cell_type": "markdown",
      "metadata": {
        "id": "V-YumuT123BU"
      },
      "source": [
        "### Funciones\n",
        "Para definir una función en Python se debe utilizar la instrucción ```def```seguido del nombre de la función, unos paréntesis ```()``` y para finalizar dos puntos ```:```. Para definir las instrucciones dentro de la función debe estar identado con 4 espacios. "
      ]
    },
    {
      "cell_type": "code",
      "execution_count": null,
      "metadata": {
        "id": "yLcOwiAP23BV"
      },
      "outputs": [],
      "source": [
        "def miFuncion():\n",
        "    print('Hola mundo')\n",
        "    \n",
        "miFuncion()"
      ]
    },
    {
      "cell_type": "markdown",
      "metadata": {
        "id": "0yCqAsBq23BX"
      },
      "source": [
        "Una función no solo resume un pedazo de código, también permite procesar información con los argumentos recibidos y retornar datos que pueden ser asignados a una variable. No es necesario definir el tipo del parámetro esperado en la función."
      ]
    },
    {
      "cell_type": "code",
      "execution_count": null,
      "metadata": {
        "id": "bZHsDcoC23BX"
      },
      "outputs": [],
      "source": [
        "def cuadradoYCubo(num):\n",
        "    return num**2, num**3\n",
        "\n",
        "res = cuadradoYCubo(3)\n",
        "print(res)"
      ]
    },
    {
      "cell_type": "markdown",
      "metadata": {
        "id": "bJOXS40i23BY"
      },
      "source": [
        "También se pueden asignar parámetros opcionales a una función a través de los pares ```parametro = valor```."
      ]
    },
    {
      "cell_type": "code",
      "execution_count": null,
      "metadata": {
        "id": "2dUd7X7A23BY"
      },
      "outputs": [],
      "source": [
        "def saludo(nombre,mensaje='Hola'):\n",
        "    return mensaje + \" \" + nombre\n",
        "\n",
        "print(saludo(\"Pablo\"))\n",
        "print(saludo(\"Andrés\",\"Buenas Noches\"))\n",
        "#También se pueden deinir en cualquier orden, siempre y cuando se especifique a que parámetro pertenece\n",
        "print(saludo(mensaje=\"Estimada\",nombre=\"Paula\"))"
      ]
    },
    {
      "cell_type": "markdown",
      "metadata": {
        "id": "yHDjqQsS23BZ"
      },
      "source": [
        "### Scope\n",
        "En Python se maneja espacios o alcances para cada una de las variables que se definan. Estos espacios se llaman *scopes* y manejan una jeraquía que permite ser utilizadas o no. Por lo general las variables definidas dentro de una función se conocen como variables locales. Si no se retorna esa variable, se elimina de la memoria del computador<br>\n",
        "\n",
        "Por ejemplo:"
      ]
    },
    {
      "cell_type": "code",
      "execution_count": null,
      "metadata": {
        "id": "gKYxxq1023BZ"
      },
      "outputs": [],
      "source": [
        "a = 2\n",
        "b = 3\n",
        "\n",
        "def funcion2():\n",
        "    return c*b\n",
        "\n",
        "def funcion():\n",
        "    c = a+2\n",
        "    d = b*c\n",
        "    \n",
        "    return d\n",
        "\n",
        "print(a)\n",
        "print(funcion())\n",
        "print(c)\n",
        "    "
      ]
    },
    {
      "cell_type": "markdown",
      "metadata": {
        "id": "KivrAdK-23Ba"
      },
      "source": [
        "### Ejercicio #1\n",
        "\n",
        "Definir una función `distancia` que tome dos argumentos `a,b`, que sean listas de dos elementos, y calcule la distancia entre ellos usando tanto el teorema de Pitágoras como la distancia 'Manhattan':\n",
        "\n",
        "Pitágoras:\n",
        "$$\\sqrt{\\left(a_{1}-b_{1}\\right)^{2}+\\left(a_{2}-b_{2}\\right)^{2}}$$\n",
        "\n",
        "\n",
        "Manhattan:\n",
        "$$|a_{1}-b_{1}| + |a_{2}-b_{2}|$$\n",
        "\n",
        "<b>Pista:</b> Recuerde que realizar la raíz cuadrada de un número es equivalente a elevar el número a la $1/2$\n",
        "\n",
        "```python\n",
        "4 ** (1/2)\n",
        "```\n",
        "\n",
        "Pueden comprobar que la función está haciendo su trabajo correctamente si retorna estos valores:\n",
        "\n",
        "```python\n",
        "distancia([0,0], [1,1])\n",
        "1.4142135623730951, 2\n",
        "```\n",
        "\n",
        "```python\n",
        "distancia([1,5], [2,2])\n",
        "3.1622776601683795, 4\n",
        "```"
      ]
    },
    {
      "cell_type": "code",
      "execution_count": null,
      "metadata": {
        "id": "oCDBB1x_23Bb"
      },
      "outputs": [],
      "source": [
        ""
      ]
    },
    {
      "cell_type": "markdown",
      "metadata": {
        "id": "TrObvkER23Bb"
      },
      "source": [
        "### Ejercicio #2\n",
        "\n",
        "Definir una función `digitos` que tome un numero `x` y retorne los dígitos de que se compone, como cadenas. Por ejemplo, `digitos` debe retornar:\n",
        "\n",
        "```python\n",
        "digitos(1234)\n",
        "[1, 2, 3, 4]\n",
        "```\n",
        "\n",
        "```python\n",
        "digitos(99861)\n",
        "[1, 6, 8, 9]\n",
        "```\n",
        "\n",
        "**Nota**: Si se repiten los digitos solo debería aparecer una vez. Si están ordenados mejor"
      ]
    },
    {
      "cell_type": "code",
      "execution_count": null,
      "metadata": {
        "id": "wyMqb2PY23Bc"
      },
      "outputs": [],
      "source": [
        ""
      ]
    },
    {
      "cell_type": "markdown",
      "metadata": {
        "id": "L8iX2TEN23Bc"
      },
      "source": [
        "### Importación de códigos, paquetes o librerías\n",
        "Python permite importar código utilizado en otros archivos. Esto es una ventaja ya que permite una mejor mantenibilidad y entendimiento del código, así como evitar la redundancia y obtener una meyor eficiencia en la ejecución. A esto se le llaman paquetes<br>\n",
        "Las librerías son paquetes desarrollados por expertos que permiten realizar diferentes tipos de funciones de manera rápida y eficiente. Por lo general estas librerías están definidas bajo cierto protocolo de sintáxis, documentación, y sub-rutinas de desarrollo.<br><br>\n",
        "Pero primero, vamos a aprender a importar código desarrollado por nostros mismos. Para eso, utilizaremos el archivo ```funciones.py``` a través de la sintáxis."
      ]
    },
    {
      "cell_type": "code",
      "execution_count": null,
      "metadata": {
        "id": "cexxBuV423Bc"
      },
      "outputs": [],
      "source": [
        "import funciones\n",
        "funciones.jugar()"
      ]
    },
    {
      "cell_type": "markdown",
      "metadata": {
        "id": "V49PknDW23Bd"
      },
      "source": [
        "Con la sintaxis anterior Python importa todas las funciones y todo el código que se encuentre en el archivo. Sin embargo, si nosotros queremos sólo una función del archivo se pue hacer de la siguiente forma. "
      ]
    },
    {
      "cell_type": "code",
      "execution_count": null,
      "metadata": {
        "id": "JHaFz16y23Bd"
      },
      "outputs": [],
      "source": [
        "from funciones import imprimir_doble\n",
        "imprimir_doble(\"Hola\")"
      ]
    },
    {
      "cell_type": "markdown",
      "metadata": {
        "id": "NmvNCAvB23Bd"
      },
      "source": [
        "Así mismo, se pueden crear alias de los paquetes o funciones que se importe. Con esto podremos llamar las funcoinalidades del codigo de una manera más apropiada."
      ]
    },
    {
      "cell_type": "code",
      "execution_count": null,
      "metadata": {
        "id": "8wZkW4Q_23Bd"
      },
      "outputs": [],
      "source": [
        "import funciones as fun\n",
        "fun.jugar()"
      ]
    },
    {
      "cell_type": "code",
      "execution_count": null,
      "metadata": {
        "id": "CgPLILPH23Bd"
      },
      "outputs": [],
      "source": [
        "from funciones import distancia as dis\n",
        "x1 = [2,2]\n",
        "x2 = [1,3]\n",
        "dis(x1,x2)"
      ]
    },
    {
      "cell_type": "code",
      "execution_count": null,
      "metadata": {
        "id": "MJhfzFg323Be"
      },
      "outputs": [],
      "source": [
        ""
      ]
    }
  ],
  "metadata": {
    "kernelspec": {
      "display_name": "Python 3",
      "language": "python",
      "name": "python3"
    },
    "language_info": {
      "codemirror_mode": {
        "name": "ipython",
        "version": 3
      },
      "file_extension": ".py",
      "mimetype": "text/x-python",
      "name": "python",
      "nbconvert_exporter": "python",
      "pygments_lexer": "ipython3",
      "version": "3.7.1"
    },
    "colab": {
      "name": "2.1 Funciones e Importaciones.ipynb",
      "provenance": [],
      "include_colab_link": true
    }
  },
  "nbformat": 4,
  "nbformat_minor": 0
}